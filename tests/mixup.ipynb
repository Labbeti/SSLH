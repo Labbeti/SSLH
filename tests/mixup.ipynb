{
 "cells": [
  {
   "cell_type": "markdown",
   "source": [
    "# MixUp versions codes\n",
    "\n",
    "## Classic MixUp (V1)\n",
    "\n",
    "### Training"
   ],
   "metadata": {
    "collapsed": false,
    "pycharm": {
     "name": "#%% md\n"
    }
   }
  },
  {
   "cell_type": "code",
   "execution_count": null,
   "metadata": {
    "collapsed": true,
    "pycharm": {
     "name": "#%%\n"
    }
   },
   "outputs": [],
   "source": [
    "for i, (x, y) in enumerate(loader):\n",
    "    x = x.to(self.device).float()\n",
    "    y = y.to(self.device).float()\n",
    "\n",
    "    with torch.no_grad():\n",
    "        batch_size = x.shape[0]\n",
    "        indexes = torch.randperm(batch_size)\n",
    "        x_shuffle = x[indexes]\n",
    "        y_shuffle = y[indexes]\n",
    "        x_mix, _ = self.mixup(x, x_shuffle, y, y_shuffle)\n",
    "\n",
    "    self.optim.zero_grad()\n",
    "\n",
    "    logits_mix = self.model(x_mix)\n",
    "    pred_mix = self.activation(logits_mix, dim=1)\n",
    "\n",
    "    loss = self.criterion(pred_mix, y, y_shuffle, self.mixup.get_lambda())\n",
    "    loss.backward()\n",
    "    self.optim.step()\n",
    "\n",
    "    # skip metrics here..."
   ]
  },
  {
   "cell_type": "markdown",
   "source": [
    "### Criterion"
   ],
   "metadata": {
    "collapsed": false
   }
  },
  {
   "cell_type": "code",
   "execution_count": null,
   "outputs": [],
   "source": [
    "class MixUpLoss(Module):\n",
    "\tdef __init__(self, criterion: Callable = CrossEntropyWithVectors()):\n",
    "\t\tsuper().__init__()\n",
    "\t\tself.criterion = criterion\n",
    "\n",
    "\tdef forward(self, pred: Tensor, labels_a: Tensor, labels_b: Tensor, lambda_: float) -> Tensor:\n",
    "\t\t\"\"\"\n",
    "\t\t\t:param pred: Output of the model for the mixed batch.\n",
    "\t\t\t:param labels_a: True labels without shuffle.\n",
    "\t\t\t:param labels_b: True labels with shuffle.\n",
    "\t\t\t:param lambda_: Coefficient used during the mix.\n",
    "\t\t\"\"\"\n",
    "\t\treturn lambda_ * self.criterion(pred, labels_a) + (1.0 - lambda_) * self.criterion(pred, labels_b)"
   ],
   "metadata": {
    "collapsed": false,
    "pycharm": {
     "name": "#%%\n"
    }
   }
  },
  {
   "cell_type": "markdown",
   "source": [
    "### MixUp\n",
    "For supervised training, we create a mixup module :"
   ],
   "metadata": {
    "collapsed": false,
    "pycharm": {
     "name": "#%% md\n"
    }
   }
  },
  {
   "cell_type": "code",
   "execution_count": null,
   "outputs": [],
   "source": [
    "MixUp(0.4, False)"
   ],
   "metadata": {
    "collapsed": false,
    "pycharm": {
     "name": "#%%\n"
    }
   }
  },
  {
   "cell_type": "code",
   "execution_count": null,
   "outputs": [],
   "source": [
    "class MixUp(Module):\n",
    "\t\"\"\"\n",
    "\t\tModule MixUp that mix batch and labels with a parameter lambda sample from a beta distribution.\n",
    "\n",
    "\t\tCode overview :\n",
    "\n",
    "\t\tlambda ~ Beta(alpha, alpha) \\n\n",
    "\t\tlambda = max(lambda, 1 - lambda) \\n\n",
    "\t\tbatch = batch_a * lambda + batch_b * (1 - lambda) \\n\n",
    "\t\tlabel = label_a * lambda + label_b * (1 - lambda) \\n\n",
    "\n",
    "\t\tNote:\n",
    "\t\t\t- if alpha -> 0 and apply_max == True, lambda sampled near 1,\n",
    "\t\t\t- if alpha -> 1 and apply_max == True, lambda sampled from uniform distribution in [0.5, 1.0],\n",
    "\t\t\t- if alpha -> 0 and apply_max == False, lambda sampled near 1 or 0,\n",
    "\t\t\t- if alpha -> 1 and apply_max == False, lambda sampled from uniform distribution in [0.0, 1.0],\n",
    "\t\"\"\"\n",
    "\n",
    "\tdef __init__(self, alpha: float = 0.75, apply_max: bool = True):\n",
    "\t\t\"\"\"\n",
    "\t\t\tBuild the MixUp Module.\n",
    "\n",
    "\t\t\t:param alpha: Controls the Beta distribution used to sampled the coefficient lambda. (default: 0.75)\n",
    "\t\t\t:param apply_max: If True, apply the \"lambda = max(lambda, 1 - lambda)\" after the sampling of lambda. (default: True)\n",
    "\t\t\t\tThis operation is useful for having a mixed batch near to the first batch passed as input.\n",
    "\t\t\t\tIt was set to True in MixMatch training but not in MixUp training.\n",
    "\t\t\"\"\"\n",
    "\t\tsuper().__init__()\n",
    "\t\tself.beta = Beta(alpha, alpha)\n",
    "\t\tself.apply_max = apply_max\n",
    "\n",
    "\t\t# Sample from Beta distribution if alpha > 0.0, otherwise returns 1.0\n",
    "\t\tself._sample = (lambda: self.beta.sample().item()) if alpha > 0.0 else (lambda: 1.0)\n",
    "\t\tself._lambda = 0.0\n",
    "\n",
    "\tdef forward(self, batch_a: Tensor, batch_b: Tensor, labels_a: Tensor, labels_b: Tensor) -> (Tensor, Tensor):\n",
    "\t\t\"\"\"\n",
    "\t\t\tApply MixUp to batches and labels.\n",
    "\t\t\"\"\"\n",
    "\t\tif batch_a.shape != batch_b.shape or labels_a.shape != labels_b.shape:\n",
    "\t\t\traise RuntimeError(\"Invalid shapes for MixUp : ({:s} != {:s} or {:s} != {:s})\".format(\n",
    "\t\t\t\tbatch_a.shape, batch_b.shape, labels_a.shape, labels_b.shape))\n",
    "\n",
    "\t\tself._lambda = self._sample()\n",
    "\t\tif self.apply_max:\n",
    "\t\t\tself._lambda = max(self._lambda, 1.0 - self._lambda)\n",
    "\n",
    "\t\tbatch_mix = batch_a * self._lambda + batch_b * (1.0 - self._lambda)\n",
    "\t\tlabels_mix = labels_a * self._lambda + labels_b * (1.0 - self._lambda)\n",
    "\n",
    "\t\treturn batch_mix, labels_mix\n",
    "\n",
    "\tdef get_lambda(self) -> float:\n",
    "\t\t\"\"\"\n",
    "\t\t\tReturns the last lambda sampled. If no data has been passed to forward(), returns 0.0.\n",
    "\t\t\"\"\"\n",
    "\t\treturn self._lambda"
   ],
   "metadata": {
    "collapsed": false,
    "pycharm": {
     "name": "#%%\n"
    }
   }
  },
  {
   "cell_type": "markdown",
   "source": [
    "## MixUp mix labels (V2)\n",
    "The criterion becomes classic CrossEntropy and the training now use the mixed label.\n",
    "\n",
    "### Training"
   ],
   "metadata": {
    "collapsed": false
   }
  },
  {
   "cell_type": "code",
   "execution_count": null,
   "outputs": [],
   "source": [
    "for i, (x, y) in enumerate(loader):\n",
    "    x = x.to(self.device).float()\n",
    "    y = y.to(self.device).float()\n",
    "\n",
    "    with torch.no_grad():\n",
    "        batch_size = x.shape[0]\n",
    "        indexes = torch.randperm(batch_size)\n",
    "        x_shuffle = x[indexes]\n",
    "        y_shuffle = y[indexes]\n",
    "        x_mix, y_mix = self.mixup(x, x_shuffle, y, y_shuffle)\n",
    "\n",
    "    self.optim.zero_grad()\n",
    "\n",
    "    logits_mix = self.model(x_mix)\n",
    "    pred_mix = self.activation(logits_mix, dim=1)\n",
    "\n",
    "    loss = self.criterion(pred_mix, y_mix)\n",
    "    loss.backward()\n",
    "    self.optim.step()\n",
    "\n",
    "    # skip metrics here...\n"
   ],
   "metadata": {
    "collapsed": false,
    "pycharm": {
     "name": "#%%\n"
    }
   }
  },
  {
   "cell_type": "markdown",
   "source": [
    "### Criterion"
   ],
   "metadata": {
    "collapsed": false,
    "pycharm": {
     "name": "#%% md\n"
    }
   }
  },
  {
   "cell_type": "code",
   "execution_count": null,
   "outputs": [],
   "source": [
    "class CrossEntropyWithVectors(Module):\n",
    "    \"\"\"\n",
    "        Compute Cross-Entropy between two distributions.\n",
    "        Input and targets must be a batch of probabilities distributions of shape (batch_size, nb_classes) tensor.\n",
    "    \"\"\"\n",
    "    def __init__(self, reduction: str = \"batchmean\", dim: Optional[int] = 1, log_input: bool = False):\n",
    "        super().__init__()\n",
    "        self.reduce_fn = get_reduction_from_name(reduction)\n",
    "        self.dim = dim\n",
    "        self.log_input = log_input\n",
    "\n",
    "    def forward(self, input_: Tensor, targets: Tensor, dim: Optional[int] = None) -> Tensor:\n",
    "        \"\"\"\n",
    "            Compute cross-entropy with targets.\n",
    "            Input and target must be a (batch_size, nb_classes) tensor.\n",
    "        \"\"\"\n",
    "        if dim is None:\n",
    "            dim = self.dim\n",
    "        if not self.log_input:\n",
    "            input_ = torch.log(input_)\n",
    "        loss = -torch.sum(input_ * targets, dim=dim)\n",
    "        return self.reduce_fn(loss)"
   ],
   "metadata": {
    "collapsed": false,
    "pycharm": {
     "name": "#%%\n"
    }
   }
  },
  {
   "cell_type": "markdown",
   "source": [
    "## MixUp smooth (V3)\n",
    "Only criterion change, the rest is the same than the classic MixUp (V1).\n",
    "\n",
    "### Criterion"
   ],
   "metadata": {
    "collapsed": false
   }
  },
  {
   "cell_type": "code",
   "execution_count": null,
   "outputs": [],
   "source": [
    "class MixUpLossSmooth(Module):\n",
    "\tdef __init__(self, criterion: Callable = CrossEntropyWithVectors()):\n",
    "\t\tsuper().__init__()\n",
    "\t\tself.criterion = criterion\n",
    "\n",
    "\tdef forward(self, pred: Tensor, labels_a: Tensor, labels_b: Tensor, lambda_: float) -> Tensor:\n",
    "\t\t\"\"\"\n",
    "\t\t\t:param pred: Output of the model for the mixed batch.\n",
    "\t\t\t:param labels_a: True labels without shuffle.\n",
    "\t\t\t:param labels_b: True labels with shuffle.\n",
    "\t\t\t:param lambda_: Coefficient used during the mix.\n",
    "\t\t\"\"\"\n",
    "\t\treturn lambda_ * self.criterion(pred, labels_a * lambda_) + (1.0 - lambda_) * self.criterion(pred, labels_b * (1.0 - lambda_))"
   ],
   "metadata": {
    "collapsed": false,
    "pycharm": {
     "name": "#%%\n"
    }
   }
  }
 ],
 "metadata": {
  "kernelspec": {
   "display_name": "Python 3",
   "language": "python",
   "name": "python3"
  },
  "language_info": {
   "codemirror_mode": {
    "name": "ipython",
    "version": 2
   },
   "file_extension": ".py",
   "mimetype": "text/x-python",
   "name": "python",
   "nbconvert_exporter": "python",
   "pygments_lexer": "ipython2",
   "version": "2.7.6"
  }
 },
 "nbformat": 4,
 "nbformat_minor": 0
}