{
 "cells": [
  {
   "cell_type": "code",
   "execution_count": 1,
   "metadata": {
    "collapsed": true
   },
   "outputs": [],
   "source": [
    "import torch\n",
    "\n",
    "from metric_utils.metrics import CategoricalAccuracy as CA1\n",
    "from mlu.metrics import CategoricalAccuracy as CA2"
   ]
  },
  {
   "cell_type": "code",
   "execution_count": 2,
   "outputs": [],
   "source": [
    "dim = 1\n",
    "ca1 = CA1()\n",
    "ca2 = CA2(vector_input=False, vector_target=False, dim=1)"
   ],
   "metadata": {
    "collapsed": false,
    "pycharm": {
     "name": "#%%\n"
    }
   }
  },
  {
   "cell_type": "code",
   "execution_count": 3,
   "outputs": [],
   "source": [
    "pred = torch.rand(16, 10)\n",
    "target = torch.zeros(16, 10)\n",
    "for i in range(len(target)):\n",
    "    target[i][i % target.shape[1]] = 1.0\n",
    "\n",
    "pred = pred.argmax(dim=dim)\n",
    "target = target.argmax(dim=dim)"
   ],
   "metadata": {
    "collapsed": false,
    "pycharm": {
     "name": "#%%\n"
    }
   }
  },
  {
   "cell_type": "code",
   "execution_count": 4,
   "outputs": [
    {
     "name": "stdout",
     "output_type": "stream",
     "text": [
      "tensor([4, 9, 9, 1, 7, 3, 4, 1, 6, 1, 8, 1, 0, 4, 8, 2])\n",
      "tensor([0, 1, 2, 3, 4, 5, 6, 7, 8, 9, 0, 1, 2, 3, 4, 5])\n"
     ]
    }
   ],
   "source": [
    "print(pred)\n",
    "print(target)"
   ],
   "metadata": {
    "collapsed": false,
    "pycharm": {
     "name": "#%%\n"
    }
   }
  },
  {
   "cell_type": "code",
   "execution_count": 5,
   "outputs": [
    {
     "name": "stdout",
     "output_type": "stream",
     "text": [
      "tensor(0.0625)\n",
      "tensor(0.0625)\n",
      "tensor(True)\n"
     ]
    }
   ],
   "source": [
    "r1 = ca1(pred, target)\n",
    "r2 = ca2(pred, target)\n",
    "print(r1)\n",
    "print(r2)\n",
    "print(r1 == r2)\n",
    "assert r1 == r2, \"Not eq\""
   ],
   "metadata": {
    "collapsed": false,
    "pycharm": {
     "name": "#%%\n"
    }
   }
  },
  {
   "cell_type": "code",
   "execution_count": 6,
   "outputs": [],
   "source": [
    "from metric_utils.metrics import FScore\n",
    "from mlu.metrics import FScore as FScoreMLU"
   ],
   "metadata": {
    "collapsed": false,
    "pycharm": {
     "name": "#%%\n"
    }
   }
  },
  {
   "cell_type": "code",
   "execution_count": 7,
   "outputs": [],
   "source": [
    "seed = 1234\n",
    "torch.manual_seed(seed)\n",
    "\n",
    "f1 = FScore(dim=1)\n",
    "f2 = FScoreMLU(dim=1)\n",
    "\n",
    "pred = torch.rand(4, 10).ge(0.5).float()\n",
    "target = torch.zeros(4, 10).ge(0.5).float()\n",
    "\n",
    "def assert_eq(a, b):\n",
    "    assert a.eq(b).all(), f\"Not eq: {a} != {b}\"\n",
    "\n",
    "s1 = f1(pred, target)\n",
    "s2 = f2(pred, target)\n",
    "\n",
    "r1 = f1.recall_func(pred, target)\n",
    "r2 = f2.recall(pred, target)\n",
    "\n",
    "p1 = f1.precision_func(pred, target)\n",
    "p2 = f2.precision(pred, target)\n",
    "\n",
    "assert_eq(r1, r2)\n",
    "assert_eq(p1, p2)\n",
    "assert_eq(s1, s2)\n",
    "assert_eq(torch.mean(s1), torch.mean(s2))"
   ],
   "metadata": {
    "collapsed": false,
    "pycharm": {
     "name": "#%%\n"
    }
   }
  },
  {
   "cell_type": "code",
   "execution_count": 8,
   "outputs": [
    {
     "name": "stdout",
     "output_type": "stream",
     "text": [
      "Done\n"
     ]
    }
   ],
   "source": [
    "print(\"Done\")"
   ],
   "metadata": {
    "collapsed": false,
    "pycharm": {
     "name": "#%%\n"
    }
   }
  }
 ],
 "metadata": {
  "kernelspec": {
   "display_name": "Python 3",
   "language": "python",
   "name": "python3"
  },
  "language_info": {
   "codemirror_mode": {
    "name": "ipython",
    "version": 2
   },
   "file_extension": ".py",
   "mimetype": "text/x-python",
   "name": "python",
   "nbconvert_exporter": "python",
   "pygments_lexer": "ipython2",
   "version": "2.7.6"
  }
 },
 "nbformat": 4,
 "nbformat_minor": 0
}