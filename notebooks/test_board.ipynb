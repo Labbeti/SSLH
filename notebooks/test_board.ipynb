{
 "cells": [
  {
   "cell_type": "code",
   "execution_count": 1,
   "metadata": {
    "collapsed": true
   },
   "outputs": [],
   "source": [
    "import os.path as osp\n",
    "from tensorboard.backend.event_processing.event_file_loader import EventFileLoader"
   ]
  },
  {
   "cell_type": "code",
   "execution_count": 2,
   "outputs": [],
   "source": [
    "fpath_ = osp.join(\n",
    "\t\"..\",\n",
    "\t\"results\",\n",
    "\t\"tensorboard\",\n",
    "\t\"ESC10_2021-01-26_18:22:42_WideResNet28_SupervisedAugment_10.00%_[5]_\",\n",
    "\t\"events.out.tfevents.1611681763.labbeti-PC.13283.0\",\n",
    ")\n",
    "loader_ = EventFileLoader(fpath_)\n",
    "events_ = list(loader_.Load())"
   ],
   "metadata": {
    "collapsed": false,
    "pycharm": {
     "name": "#%%\n"
    }
   }
  },
  {
   "cell_type": "code",
   "execution_count": 3,
   "outputs": [
    {
     "name": "stdout",
     "output_type": "stream",
     "text": [
      "186\n"
     ]
    }
   ],
   "source": [
    "print(len(events_))"
   ],
   "metadata": {
    "collapsed": false,
    "pycharm": {
     "name": "#%%\n"
    }
   }
  },
  {
   "cell_type": "code",
   "execution_count": 4,
   "outputs": [
    {
     "name": "stdout",
     "output_type": "stream",
     "text": [
      "<class 'tensorboard.compat.proto.event_pb2.Event'>\n",
      "wall_time: 1611681763.6354325\n",
      "file_version: \"brain.Event:2\"\n",
      "\n"
     ]
    }
   ],
   "source": [
    "event_ = events_[0]\n",
    "print(type(event_))\n",
    "print(event_)"
   ],
   "metadata": {
    "collapsed": false,
    "pycharm": {
     "name": "#%%\n"
    }
   }
  },
  {
   "cell_type": "code",
   "execution_count": 5,
   "outputs": [
    {
     "name": "stdout",
     "output_type": "stream",
     "text": [
      "<class 'tensorboard.compat.proto.event_pb2.Event'>\n",
      "wall_time: 1611681764.6135015\n",
      "summary {\n",
      "  value {\n",
      "    tag: \"train/lr\"\n",
      "    tensor {\n",
      "      dtype: DT_FLOAT\n",
      "      tensor_shape {\n",
      "      }\n",
      "      float_val: 0.0010000000474974513\n",
      "    }\n",
      "    metadata {\n",
      "      plugin_data {\n",
      "        plugin_name: \"scalars\"\n",
      "      }\n",
      "      display_name: \"train/lr\"\n",
      "      data_class: DATA_CLASS_SCALAR\n",
      "    }\n",
      "  }\n",
      "}\n",
      "\n"
     ]
    }
   ],
   "source": [
    "event_ = events_[1]\n",
    "print(type(event_))\n",
    "print(event_)"
   ],
   "metadata": {
    "collapsed": false,
    "pycharm": {
     "name": "#%%\n"
    }
   }
  },
  {
   "cell_type": "code",
   "execution_count": 6,
   "outputs": [],
   "source": [
    "# for i, event_ in enumerate(events_):\n",
    "# \tv = event_.summary.value\n",
    "# \tif len(v) > 0 and v[0].tag == \"train/loss\":\n",
    "# \t\tprint(f\"EVENT {i} : \")\n",
    "# \t\tprint(\"v = \", v)\n",
    "# \t\tprint(\"step = \", event_.step)\n",
    "# \t\tprint(\"len v = \", len(v))\n",
    "\n",
    "# print(event.summary.value[0].tag)\n",
    "# print(event.step)\n",
    "# print(event.HasField)\n",
    "# print(event.graph_def)\n",
    "# print(event.wall_time)"
   ],
   "metadata": {
    "collapsed": false,
    "pycharm": {
     "name": "#%%\n"
    }
   }
  },
  {
   "cell_type": "code",
   "execution_count": 7,
   "outputs": [],
   "source": [
    "from mlu.utils.tensorboard.loader import TensorboardLoader"
   ],
   "metadata": {
    "collapsed": false,
    "pycharm": {
     "name": "#%%\n"
    }
   }
  },
  {
   "cell_type": "code",
   "execution_count": 8,
   "outputs": [],
   "source": [
    "board_path = osp.dirname(fpath_)\n",
    "loader = TensorboardLoader(board_path, recursive=True)\n",
    "data = loader.load()"
   ],
   "metadata": {
    "collapsed": false,
    "pycharm": {
     "name": "#%%\n"
    }
   }
  },
  {
   "cell_type": "code",
   "execution_count": 9,
   "outputs": [
    {
     "name": "stdout",
     "output_type": "stream",
     "text": [
      "{\n",
      "\t\"train/lr\": {\n",
      "\t\t\"dtype\": \"float\",\n",
      "\t\t\"values\": {\n",
      "\t\t\t\"0\": 0.0010000000474974513,\n",
      "\t\t\t\"1\": 0.0010000000474974513,\n",
      "\t\t\t\"2\": 0.0010000000474974513,\n",
      "\t\t\t\"3\": 0.0010000000474974513,\n",
      "\t\t\t\"4\": 0.0010000000474974513,\n",
      "\t\t\t\"5\": 0.0010000000474974513,\n",
      "\t\t\t\"6\": 0.0010000000474974513,\n",
      "\t\t\t\"7\": 0.0010000000474974513,\n",
      "\t\t\t\"8\": 0.0010000000474974513,\n",
      "\t\t\t\"9\": 0.0010000000474974513\n",
      "\t\t}\n",
      "\t},\n",
      "\t\"train/loss\": {\n",
      "\t\t\"dtype\": \"float\",\n",
      "\t\t\"values\": {\n",
      "\t\t\t\"0\": 2.6023433208465576,\n",
      "\t\t\t\"1\": 1.954403281211853,\n",
      "\t\t\t\"2\": 1.4036904573440552,\n",
      "\t\t\t\"3\": 0.9879335165023804,\n",
      "\t\t\t\"4\": 0.7254395484924316,\n",
      "\t\t\t\"5\": 0.5462048053741455,\n",
      "\t\t\t\"6\": 0.39828214049339294,\n",
      "\t\t\t\"7\": 0.2881719768047333,\n",
      "\t\t\t\"8\": 0.20588572323322296,\n",
      "\t\t\t\"9\": 0.1433643251657486\n",
      "\t\t}\n",
      "\t},\n",
      "\t\"train/acc\": {\n",
      "\t\t\"dtype\": \"float\",\n",
      "\t\t\"values\": {\n",
      "\t\t\t\"0\": 0.10000000894069672,\n",
      "\t\t\t\"1\": 0.2666666805744171,\n",
      "\t\t\t\"2\": 0.5666667222976685,\n",
      "\t\t\t\"3\": 0.8000000715255737,\n",
      "\t\t\t\"4\": 0.8000000715255737,\n",
      "\t\t\t\"5\": 0.9000000357627869,\n",
      "\t\t\t\"6\": 0.9333333969116211,\n",
      "\t\t\t\"7\": 1.0,\n",
      "\t\t\t\"8\": 1.0,\n",
      "\t\t\t\"9\": 1.0\n",
      "\t\t}\n",
      "\t},\n",
      "\t\"train_max/lr\": {\n",
      "\t\t\"dtype\": \"float\",\n",
      "\t\t\"values\": {\n",
      "\t\t\t\"0\": 0.0010000000474974513,\n",
      "\t\t\t\"1\": 0.0010000000474974513,\n",
      "\t\t\t\"2\": 0.0010000000474974513,\n",
      "\t\t\t\"3\": 0.0010000000474974513,\n",
      "\t\t\t\"4\": 0.0010000000474974513,\n",
      "\t\t\t\"5\": 0.0010000000474974513,\n",
      "\t\t\t\"6\": 0.0010000000474974513,\n",
      "\t\t\t\"7\": 0.0010000000474974513,\n",
      "\t\t\t\"8\": 0.0010000000474974513,\n",
      "\t\t\t\"9\": 0.0010000000474974513\n",
      "\t\t}\n",
      "\t},\n",
      "\t\"train_max/loss\": {\n",
      "\t\t\"dtype\": \"float\",\n",
      "\t\t\"values\": {\n",
      "\t\t\t\"0\": 2.6023433208465576,\n",
      "\t\t\t\"1\": 2.6023433208465576,\n",
      "\t\t\t\"2\": 2.6023433208465576,\n",
      "\t\t\t\"3\": 2.6023433208465576,\n",
      "\t\t\t\"4\": 2.6023433208465576,\n",
      "\t\t\t\"5\": 2.6023433208465576,\n",
      "\t\t\t\"6\": 2.6023433208465576,\n",
      "\t\t\t\"7\": 2.6023433208465576,\n",
      "\t\t\t\"8\": 2.6023433208465576,\n",
      "\t\t\t\"9\": 2.6023433208465576\n",
      "\t\t}\n",
      "\t},\n",
      "\t\"train_max/acc\": {\n",
      "\t\t\"dtype\": \"float\",\n",
      "\t\t\"values\": {\n",
      "\t\t\t\"0\": 0.10000000894069672,\n",
      "\t\t\t\"1\": 0.2666666805744171,\n",
      "\t\t\t\"2\": 0.5666667222976685,\n",
      "\t\t\t\"3\": 0.8000000715255737,\n",
      "\t\t\t\"4\": 0.8000000715255737,\n",
      "\t\t\t\"5\": 0.9000000357627869,\n",
      "\t\t\t\"6\": 0.9333333969116211,\n",
      "\t\t\t\"7\": 1.0,\n",
      "\t\t\t\"8\": 1.0,\n",
      "\t\t\t\"9\": 1.0\n",
      "\t\t}\n",
      "\t},\n",
      "\t\"val/acc\": {\n",
      "\t\t\"dtype\": \"float\",\n",
      "\t\t\"values\": {\n",
      "\t\t\t\"0\": 0.0833333432674408,\n",
      "\t\t\t\"1\": 0.0833333432674408,\n",
      "\t\t\t\"2\": 0.0833333432674408,\n",
      "\t\t\t\"3\": 0.0833333432674408,\n",
      "\t\t\t\"4\": 0.0833333432674408,\n",
      "\t\t\t\"5\": 0.0833333432674408,\n",
      "\t\t\t\"6\": 0.0833333432674408,\n",
      "\t\t\t\"7\": 0.0833333432674408,\n",
      "\t\t\t\"8\": 0.0833333432674408,\n",
      "\t\t\t\"9\": 0.1666666865348816\n",
      "\t\t}\n",
      "\t},\n",
      "\t\"val/ce\": {\n",
      "\t\t\"dtype\": \"float\",\n",
      "\t\t\"values\": {\n",
      "\t\t\t\"0\": 62.68571090698242,\n",
      "\t\t\t\"1\": 62.13100814819336,\n",
      "\t\t\t\"2\": 59.592891693115234,\n",
      "\t\t\t\"3\": 61.964385986328125,\n",
      "\t\t\t\"4\": 62.68571090698242,\n",
      "\t\t\t\"5\": 62.68571090698242,\n",
      "\t\t\t\"6\": 62.68571090698242,\n",
      "\t\t\t\"7\": 62.68571090698242,\n",
      "\t\t\t\"8\": 61.405914306640625,\n",
      "\t\t\t\"9\": 51.6260986328125\n",
      "\t\t}\n",
      "\t},\n",
      "\t\"val/max\": {\n",
      "\t\t\"dtype\": \"float\",\n",
      "\t\t\"values\": {\n",
      "\t\t\t\"0\": 1.0,\n",
      "\t\t\t\"1\": 1.0,\n",
      "\t\t\t\"2\": 1.0,\n",
      "\t\t\t\"3\": 1.0,\n",
      "\t\t\t\"4\": 1.0,\n",
      "\t\t\t\"5\": 1.0,\n",
      "\t\t\t\"6\": 1.0,\n",
      "\t\t\t\"7\": 1.0,\n",
      "\t\t\t\"8\": 0.9999992251396179,\n",
      "\t\t\t\"9\": 0.9807456135749817\n",
      "\t\t}\n",
      "\t},\n",
      "\t\"val_max/ce\": {\n",
      "\t\t\"dtype\": \"float\",\n",
      "\t\t\"values\": {\n",
      "\t\t\t\"0\": 62.68571090698242,\n",
      "\t\t\t\"1\": 62.68571090698242,\n",
      "\t\t\t\"2\": 62.68571090698242,\n",
      "\t\t\t\"3\": 62.68571090698242,\n",
      "\t\t\t\"4\": 62.68571090698242,\n",
      "\t\t\t\"5\": 62.68571090698242,\n",
      "\t\t\t\"6\": 62.68571090698242,\n",
      "\t\t\t\"7\": 62.68571090698242,\n",
      "\t\t\t\"8\": 62.68571090698242,\n",
      "\t\t\t\"9\": 62.68571090698242\n",
      "\t\t}\n",
      "\t},\n",
      "\t\"val_max/max\": {\n",
      "\t\t\"dtype\": \"float\",\n",
      "\t\t\"values\": {\n",
      "\t\t\t\"0\": 1.0,\n",
      "\t\t\t\"1\": 1.0,\n",
      "\t\t\t\"2\": 1.0,\n",
      "\t\t\t\"3\": 1.0,\n",
      "\t\t\t\"4\": 1.0,\n",
      "\t\t\t\"5\": 1.0,\n",
      "\t\t\t\"6\": 1.0,\n",
      "\t\t\t\"7\": 1.0,\n",
      "\t\t\t\"8\": 1.0,\n",
      "\t\t\t\"9\": 1.0\n",
      "\t\t}\n",
      "\t},\n",
      "\t\"val_max/acc\": {\n",
      "\t\t\"dtype\": \"float\",\n",
      "\t\t\"values\": {\n",
      "\t\t\t\"0\": 0.0833333432674408,\n",
      "\t\t\t\"1\": 0.0833333432674408,\n",
      "\t\t\t\"2\": 0.0833333432674408,\n",
      "\t\t\t\"3\": 0.0833333432674408,\n",
      "\t\t\t\"4\": 0.0833333432674408,\n",
      "\t\t\t\"5\": 0.0833333432674408,\n",
      "\t\t\t\"6\": 0.0833333432674408,\n",
      "\t\t\t\"7\": 0.0833333432674408,\n",
      "\t\t\t\"8\": 0.0833333432674408,\n",
      "\t\t\t\"9\": 0.1666666865348816\n",
      "\t\t}\n",
      "\t},\n",
      "\t\"train_best/lr_idx_min\": {\n",
      "\t\t\"dtype\": \"float\",\n",
      "\t\t\"values\": {\n",
      "\t\t\t\"0\": 0.0\n",
      "\t\t}\n",
      "\t},\n",
      "\t\"train_best/lr_min\": {\n",
      "\t\t\"dtype\": \"float\",\n",
      "\t\t\"values\": {\n",
      "\t\t\t\"0\": 0.0010000000474974513\n",
      "\t\t}\n",
      "\t},\n",
      "\t\"train_best/lr_idx_max\": {\n",
      "\t\t\"dtype\": \"float\",\n",
      "\t\t\"values\": {\n",
      "\t\t\t\"0\": 0.0\n",
      "\t\t}\n",
      "\t},\n",
      "\t\"train_best/lr_max\": {\n",
      "\t\t\"dtype\": \"float\",\n",
      "\t\t\"values\": {\n",
      "\t\t\t\"0\": 0.0010000000474974513\n",
      "\t\t}\n",
      "\t},\n",
      "\t\"train_best/loss_idx_min\": {\n",
      "\t\t\"dtype\": \"float\",\n",
      "\t\t\"values\": {\n",
      "\t\t\t\"0\": 9.0\n",
      "\t\t}\n",
      "\t},\n",
      "\t\"train_best/loss_min\": {\n",
      "\t\t\"dtype\": \"float\",\n",
      "\t\t\"values\": {\n",
      "\t\t\t\"0\": 0.1433643251657486\n",
      "\t\t}\n",
      "\t},\n",
      "\t\"train_best/loss_idx_max\": {\n",
      "\t\t\"dtype\": \"float\",\n",
      "\t\t\"values\": {\n",
      "\t\t\t\"0\": 0.0\n",
      "\t\t}\n",
      "\t},\n",
      "\t\"train_best/loss_max\": {\n",
      "\t\t\"dtype\": \"float\",\n",
      "\t\t\"values\": {\n",
      "\t\t\t\"0\": 2.6023433208465576\n",
      "\t\t}\n",
      "\t},\n",
      "\t\"train_best/acc_idx_min\": {\n",
      "\t\t\"dtype\": \"float\",\n",
      "\t\t\"values\": {\n",
      "\t\t\t\"0\": 0.0\n",
      "\t\t}\n",
      "\t},\n",
      "\t\"train_best/acc_min\": {\n",
      "\t\t\"dtype\": \"float\",\n",
      "\t\t\"values\": {\n",
      "\t\t\t\"0\": 0.10000000894069672\n",
      "\t\t}\n",
      "\t},\n",
      "\t\"train_best/acc_idx_max\": {\n",
      "\t\t\"dtype\": \"float\",\n",
      "\t\t\"values\": {\n",
      "\t\t\t\"0\": 7.0\n",
      "\t\t}\n",
      "\t},\n",
      "\t\"train_best/acc_max\": {\n",
      "\t\t\"dtype\": \"float\",\n",
      "\t\t\"values\": {\n",
      "\t\t\t\"0\": 1.0\n",
      "\t\t}\n",
      "\t},\n",
      "\t\"val_best/ce_idx_min\": {\n",
      "\t\t\"dtype\": \"float\",\n",
      "\t\t\"values\": {\n",
      "\t\t\t\"0\": 9.0\n",
      "\t\t}\n",
      "\t},\n",
      "\t\"val_best/ce_min\": {\n",
      "\t\t\"dtype\": \"float\",\n",
      "\t\t\"values\": {\n",
      "\t\t\t\"0\": 51.6260986328125\n",
      "\t\t}\n",
      "\t},\n",
      "\t\"val_best/ce_idx_max\": {\n",
      "\t\t\"dtype\": \"float\",\n",
      "\t\t\"values\": {\n",
      "\t\t\t\"0\": 0.0\n",
      "\t\t}\n",
      "\t},\n",
      "\t\"val_best/ce_max\": {\n",
      "\t\t\"dtype\": \"float\",\n",
      "\t\t\"values\": {\n",
      "\t\t\t\"0\": 62.68571090698242\n",
      "\t\t}\n",
      "\t},\n",
      "\t\"val_best/max_idx_min\": {\n",
      "\t\t\"dtype\": \"float\",\n",
      "\t\t\"values\": {\n",
      "\t\t\t\"0\": 9.0\n",
      "\t\t}\n",
      "\t},\n",
      "\t\"val_best/max_min\": {\n",
      "\t\t\"dtype\": \"float\",\n",
      "\t\t\"values\": {\n",
      "\t\t\t\"0\": 0.9807456135749817\n",
      "\t\t}\n",
      "\t},\n",
      "\t\"val_best/max_idx_max\": {\n",
      "\t\t\"dtype\": \"float\",\n",
      "\t\t\"values\": {\n",
      "\t\t\t\"0\": 0.0\n",
      "\t\t}\n",
      "\t},\n",
      "\t\"val_best/max_max\": {\n",
      "\t\t\"dtype\": \"float\",\n",
      "\t\t\"values\": {\n",
      "\t\t\t\"0\": 1.0\n",
      "\t\t}\n",
      "\t},\n",
      "\t\"val_best/acc_idx_min\": {\n",
      "\t\t\"dtype\": \"float\",\n",
      "\t\t\"values\": {\n",
      "\t\t\t\"0\": 0.0\n",
      "\t\t}\n",
      "\t},\n",
      "\t\"val_best/acc_min\": {\n",
      "\t\t\"dtype\": \"float\",\n",
      "\t\t\"values\": {\n",
      "\t\t\t\"0\": 0.0833333432674408\n",
      "\t\t}\n",
      "\t},\n",
      "\t\"val_best/acc_idx_max\": {\n",
      "\t\t\"dtype\": \"float\",\n",
      "\t\t\"values\": {\n",
      "\t\t\t\"0\": 9.0\n",
      "\t\t}\n",
      "\t},\n",
      "\t\"val_best/acc_max\": {\n",
      "\t\t\"dtype\": \"float\",\n",
      "\t\t\"values\": {\n",
      "\t\t\t\"0\": 0.1666666865348816\n",
      "\t\t}\n",
      "\t}\n",
      "}\n"
     ]
    }
   ],
   "source": [
    "# import json\n",
    "# print(json.dumps(data, indent=\"\\t\"))\n",
    "# print(data)"
   ],
   "metadata": {
    "collapsed": false,
    "pycharm": {
     "name": "#%%\n"
    }
   }
  },
  {
   "cell_type": "code",
   "execution_count": 8,
   "outputs": [],
   "source": [
    "import os.path as osp\n",
    "from torch.utils.tensorboard import SummaryWriter"
   ],
   "metadata": {
    "collapsed": false,
    "pycharm": {
     "name": "#%%\n"
    }
   }
  },
  {
   "cell_type": "code",
   "execution_count": 9,
   "outputs": [],
   "source": [
    "log_dir = osp.join(\"..\", \"results\", \"tensorboard_test\", \"TEST_NB\")\n",
    "writer = SummaryWriter(log_dir)"
   ],
   "metadata": {
    "collapsed": false,
    "pycharm": {
     "name": "#%%\n"
    }
   }
  },
  {
   "cell_type": "code",
   "execution_count": 10,
   "outputs": [],
   "source": [
    "writer.add_scalar(\"iter_train/acc\", 0.1, 0)\n",
    "writer.add_scalar(\"iter_train/acc\", 0.2, 1)\n",
    "\n",
    "writer.add_scalar(\"iter_train_min/acc\", 0.1, 0)\n",
    "writer.add_scalar(\"iter_train_max/acc\", 0.2, 0)\n",
    "\n",
    "writer.add_scalar(\"iter_val/best\", 0.1, 5)"
   ],
   "metadata": {
    "collapsed": false,
    "pycharm": {
     "name": "#%%\n"
    }
   }
  },
  {
   "cell_type": "code",
   "execution_count": 11,
   "outputs": [],
   "source": [
    "writer.close()"
   ],
   "metadata": {
    "collapsed": false,
    "pycharm": {
     "name": "#%%\n"
    }
   }
  }
 ],
 "metadata": {
  "kernelspec": {
   "display_name": "Python 3",
   "language": "python",
   "name": "python3"
  },
  "language_info": {
   "codemirror_mode": {
    "name": "ipython",
    "version": 2
   },
   "file_extension": ".py",
   "mimetype": "text/x-python",
   "name": "python",
   "nbconvert_exporter": "python",
   "pygments_lexer": "ipython2",
   "version": "2.7.6"
  }
 },
 "nbformat": 4,
 "nbformat_minor": 0
}