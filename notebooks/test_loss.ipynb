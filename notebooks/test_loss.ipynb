{
 "cells": [
  {
   "cell_type": "code",
   "execution_count": 1,
   "metadata": {
    "collapsed": true
   },
   "outputs": [],
   "source": [
    "import torch\n",
    "\n",
    "from mlu.nn import (\n",
    "    CrossEntropyWithVectors, Max, JSDivLoss, KLDivLossWithProbabilities, Mean\n",
    ")\n",
    "from torch.nn import MSELoss, BCELoss, DataParallel, Sequential"
   ]
  },
  {
   "cell_type": "code",
   "execution_count": 2,
   "outputs": [],
   "source": [
    "bce = BCELoss(reduction=\"none\")\n",
    "mean = Mean(dim=-1)\n",
    "criterion = Sequential(bce, mean)"
   ],
   "metadata": {
    "collapsed": false,
    "pycharm": {
     "name": "#%%\n"
    }
   }
  },
  {
   "cell_type": "code",
   "execution_count": 4,
   "outputs": [],
   "source": [
    "pred = torch.zeros(8, 10)\n",
    "labels = torch.ones(8, 10)\n"
   ],
   "metadata": {
    "collapsed": false,
    "pycharm": {
     "name": "#%%\n"
    }
   }
  },
  {
   "cell_type": "code",
   "execution_count": 5,
   "outputs": [
    {
     "name": "stdout",
     "output_type": "stream",
     "text": [
      "tensor([[100., 100., 100., 100., 100., 100., 100., 100., 100., 100.],\n",
      "        [100., 100., 100., 100., 100., 100., 100., 100., 100., 100.],\n",
      "        [100., 100., 100., 100., 100., 100., 100., 100., 100., 100.],\n",
      "        [100., 100., 100., 100., 100., 100., 100., 100., 100., 100.],\n",
      "        [100., 100., 100., 100., 100., 100., 100., 100., 100., 100.],\n",
      "        [100., 100., 100., 100., 100., 100., 100., 100., 100., 100.],\n",
      "        [100., 100., 100., 100., 100., 100., 100., 100., 100., 100.],\n",
      "        [100., 100., 100., 100., 100., 100., 100., 100., 100., 100.]])\n"
     ]
    }
   ],
   "source": [
    "print(bce(pred, labels))"
   ],
   "metadata": {
    "collapsed": false,
    "pycharm": {
     "name": "#%%\n"
    }
   }
  },
  {
   "cell_type": "code",
   "execution_count": null,
   "outputs": [],
   "source": [
    "loss = criterion(pred, labels)\n",
    "print(loss)"
   ],
   "metadata": {
    "collapsed": false,
    "pycharm": {
     "name": "#%%\n"
    }
   }
  }
 ],
 "metadata": {
  "kernelspec": {
   "display_name": "Python 3",
   "language": "python",
   "name": "python3"
  },
  "language_info": {
   "codemirror_mode": {
    "name": "ipython",
    "version": 2
   },
   "file_extension": ".py",
   "mimetype": "text/x-python",
   "name": "python",
   "nbconvert_exporter": "python",
   "pygments_lexer": "ipython2",
   "version": "2.7.6"
  }
 },
 "nbformat": 4,
 "nbformat_minor": 0
}