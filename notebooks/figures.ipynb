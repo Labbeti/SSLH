{
 "cells": [
  {
   "cell_type": "markdown",
   "id": "metric-sussex",
   "metadata": {},
   "source": [
    "# EURASIP FIGURE"
   ]
  },
  {
   "attachments": {},
   "cell_type": "markdown",
   "id": "a8e20d05",
   "metadata": {},
   "source": [
    "### Durations (plt version)"
   ]
  },
  {
   "cell_type": "code",
   "execution_count": 104,
   "id": "happy-correspondence",
   "metadata": {},
   "outputs": [],
   "source": [
    "from matplotlib import pyplot as plt"
   ]
  },
  {
   "cell_type": "code",
   "execution_count": 116,
   "id": "potential-library",
   "metadata": {},
   "outputs": [
    {
     "name": "stderr",
     "output_type": "stream",
     "text": [
      "C:\\Users\\SER\\AppData\\Local\\Temp\\ipykernel_12492\\1610256936.py:26: UserWarning: FixedFormatter should only be used together with FixedLocator\n",
      "  ax.set_xticklabels(x, rotation=45, fontsize=\"large\", horizontalalignment=\"right\")  # , fontweight=\"bold\"\n"
     ]
    },
    {
     "data": {
      "image/png": "[encoded data removed]",
      "text/plain": [
       "<Figure size 432x576 with 1 Axes>"
      ]
     },
     "metadata": {
      "needs_background": "light"
     },
     "output_type": "display_data"
    }
   ],
   "source": [
    "data = {\n",
    "    \"Supervised 10%\": 0.40,\n",
    "    \"Supervised 100%\": 1.00,\n",
    "    \"MT\": 4.54,\n",
    "    \"DCT\": 7.56,\n",
    "    \"MM\": 5.99,\n",
    "    \"RMM\": 11.57,\n",
    "    \"FM\": 6.08,\n",
    "}\n",
    "x = list(data.keys())\n",
    "y = list(data.values())\n",
    "\n",
    "fig = plt.figure(figsize=(6, 8), edgecolor=\"white\")\n",
    "ax = plt.gca()\n",
    "\n",
    "ax.spines[\"top\"].set_visible(False)\n",
    "ax.spines[\"right\"].set_visible(False)\n",
    "ax.spines[\"bottom\"].set_visible(True)\n",
    "ax.spines[\"left\"].set_visible(True)\n",
    "\n",
    "plt.bar(x, y)\n",
    "for i, v in enumerate(y):\n",
    "    plt.text(\n",
    "        i,\n",
    "        v + 0.3,\n",
    "        str(v),\n",
    "        color=\"C0\",\n",
    "        horizontalalignment=\"center\",\n",
    "        fontweight=\"normal\",\n",
    "        fontsize=\"x-large\",\n",
    "    )\n",
    "\n",
    "ax.set_ylim([0, 12])\n",
    "ax.set_xticklabels(\n",
    "    x, rotation=45, fontsize=\"large\", horizontalalignment=\"right\"\n",
    ")  # , fontweight=\"bold\"\n",
    "\n",
    "directory = \"./\"\n",
    "fig.savefig(directory + \"Durations_v5.eps\", format=\"eps\", bbox_inches=\"tight\")\n",
    "fig.savefig(directory + \"Durations_v5.pdf\", format=\"pdf\", bbox_inches=\"tight\")\n",
    "fig.savefig(directory + \"Durations_v5.png\", format=\"png\", bbox_inches=\"tight\")\n",
    "plt.show()"
   ]
  },
  {
   "attachments": {},
   "cell_type": "markdown",
   "id": "d67684df",
   "metadata": {},
   "source": [
    "### Durations (bokeh version)"
   ]
  },
  {
   "cell_type": "code",
   "execution_count": 7,
   "id": "persistent-accident",
   "metadata": {},
   "outputs": [
    {
     "data": {
      "text/html": [
       "<style>\n",
       "        .bk-notebook-logo {\n",
       "            display: block;\n",
       "            width: 20px;\n",
       "            height: 20px;\n",
       "            background-image: url(data:image/png;base64,iVBORw0KGgoAAAANSUhEUgAAABQAAAAUCAYAAACNiR0NAAAABHNCSVQICAgIfAhkiAAAAAlwSFlzAAALEgAACxIB0t1+/AAAABx0RVh0U29mdHdhcmUAQWRvYmUgRmlyZXdvcmtzIENTNui8sowAAAOkSURBVDiNjZRtaJVlGMd/1/08zzln5zjP1LWcU9N0NkN8m2CYjpgQYQXqSs0I84OLIC0hkEKoPtiH3gmKoiJDU7QpLgoLjLIQCpEsNJ1vqUOdO7ppbuec5+V+rj4ctwzd8IIbbi6u+8f1539dt3A78eXC7QizUF7gyV1fD1Yqg4JWz84yffhm0qkFqBogB9rM8tZdtwVsPUhWhGcFJngGeWrPzHm5oaMmkfEg1usvLFyc8jLRqDOMru7AyC8saQr7GG7f5fvDeH7Ej8CM66nIF+8yngt6HWaKh7k49Soy9nXurCi1o3qUbS3zWfrYeQDTB/Qj6kX6Ybhw4B+bOYoLKCC9H3Nu/leUTZ1JdRWkkn2ldcCamzrcf47KKXdAJllSlxAOkRgyHsGC/zRday5Qld9DyoM4/q/rUoy/CXh3jzOu3bHUVZeU+DEn8FInkPBFlu3+nW3Nw0mk6vCDiWg8CeJaxEwuHS3+z5RgY+YBR6V1Z1nxSOfoaPa4LASWxxdNp+VWTk7+4vzaou8v8PN+xo+KY2xsw6une2frhw05CTYOmQvsEhjhWjn0bmXPjpE1+kplmmkP3suftwTubK9Vq22qKmrBhpY4jvd5afdRA3wGjFAgcnTK2s4hY0/GPNIb0nErGMCRxWOOX64Z8RAC4oCXdklmEvcL8o0BfkNK4lUg9HTl+oPlQxdNo3Mg4Nv175e/1LDGzZen30MEjRUtmXSfiTVu1kK8W4txyV6BMKlbgk3lMwYCiusNy9fVfvvwMxv8Ynl6vxoByANLTWplvuj/nF9m2+PDtt1eiHPBr1oIfhCChQMBw6Aw0UulqTKZdfVvfG7VcfIqLG9bcldL/+pdWTLxLUy8Qq38heUIjh4XlzZxzQm19lLFlr8vdQ97rjZVOLf8nclzckbcD4wxXMidpX30sFd37Fv/GtwwhzhxGVAprjbg0gCAEeIgwCZyTV2Z1REEW8O4py0wsjeloKoMr6iCY6dP92H6Vw/oTyICIthibxjm/DfN9lVz8IqtqKYLUXfoKVMVQVVJOElGjrnnUt9T9wbgp8AyYKaGlqingHZU/uG2NTZSVqwHQTWkx9hxjkpWDaCg6Ckj5qebgBVbT3V3NNXMSiWSDdGV3hrtzla7J+duwPOToIg42ChPQOQjspnSlp1V+Gjdged7+8UN5CRAV7a5EdFNwCjEaBR27b3W890TE7g24NAP/mMDXRWrGoFPQI9ls/MWO2dWFAar/xcOIImbbpA3zgAAAABJRU5ErkJggg==);\n",
       "        }\n",
       "    </style>\n",
       "    <div>\n",
       "        <a href=\"https://bokeh.org\" target=\"_blank\" class=\"bk-notebook-logo\"></a>\n",
       "        <span id=\"p1003\">Loading BokehJS ...</span>\n",
       "    </div>\n"
      ]
     },
     "metadata": {},
     "output_type": "display_data"
    },
    {
     "data": {
      "application/javascript": "(function(root) {\n  function now() {\n    return new Date();\n  }\n\n  const force = true;\n\n  if (typeof root._bokeh_onload_callbacks === \"undefined\" || force === true) {\n    root._bokeh_onload_callbacks = [];\n    root._bokeh_is_loading = undefined;\n  }\n\nconst JS_MIME_TYPE = 'application/javascript';\n  const HTML_MIME_TYPE = 'text/html';\n  const EXEC_MIME_TYPE = 'application/vnd.bokehjs_exec.v0+json';\n  const CLASS_NAME = 'output_bokeh rendered_html';\n\n  /**\n   * Render data to the DOM node\n   */\n  function render(props, node) {\n    const script = document.createElement(\"script\");\n    node.appendChild(script);\n  }\n\n  /**\n   * Handle when an output is cleared or removed\n   */\n  function handleClearOutput(event, handle) {\n    const cell = handle.cell;\n\n    const id = cell.output_area._bokeh_element_id;\n    const server_id = cell.output_area._bokeh_server_id;\n    // Clean up Bokeh references\n    if (id != null && id in Bokeh.index) {\n      Bokeh.index[id].model.document.clear();\n      delete Bokeh.index[id];\n    }\n\n    if (server_id !== undefined) {\n      // Clean up Bokeh references\n      const cmd_clean = \"from bokeh.io.state import curstate; print(curstate().uuid_to_server['\" + server_id + \"'].get_sessions()[0].document.roots[0]._id)\";\n      cell.notebook.kernel.execute(cmd_clean, {\n        iopub: {\n          output: function(msg) {\n            const id = msg.content.text.trim();\n            if (id in Bokeh.index) {\n              Bokeh.index[id].model.document.clear();\n              delete Bokeh.index[id];\n            }\n          }\n        }\n      });\n      // Destroy server and session\n      const cmd_destroy = \"import bokeh.io.notebook as ion; ion.destroy_server('\" + server_id + \"')\";\n      cell.notebook.kernel.execute(cmd_destroy);\n    }\n  }\n\n  /**\n   * Handle when a new output is added\n   */\n  function handleAddOutput(event, handle) {\n    const output_area = handle.output_area;\n    const output = handle.output;\n\n    // limit handleAddOutput to display_data with EXEC_MIME_TYPE content only\n    if ((output.output_type != \"display_data\") || (!Object.prototype.hasOwnProperty.call(output.data, EXEC_MIME_TYPE))) {\n      return\n    }\n\n    const toinsert = output_area.element.find(\".\" + CLASS_NAME.split(' ')[0]);\n\n    if (output.metadata[EXEC_MIME_TYPE][\"id\"] !== undefined) {\n      toinsert[toinsert.length - 1].firstChild.textContent = output.data[JS_MIME_TYPE];\n      // store reference to embed id on output_area\n      output_area._bokeh_element_id = output.metadata[EXEC_MIME_TYPE][\"id\"];\n    }\n    if (output.metadata[EXEC_MIME_TYPE][\"server_id\"] !== undefined) {\n      const bk_div = document.createElement(\"div\");\n      bk_div.innerHTML = output.data[HTML_MIME_TYPE];\n      const script_attrs = bk_div.children[0].attributes;\n      for (let i = 0; i < script_attrs.length; i++) {\n        toinsert[toinsert.length - 1].firstChild.setAttribute(script_attrs[i].name, script_attrs[i].value);\n        toinsert[toinsert.length - 1].firstChild.textContent = bk_div.children[0].textContent\n      }\n      // store reference to server id on output_area\n      output_area._bokeh_server_id = output.metadata[EXEC_MIME_TYPE][\"server_id\"];\n    }\n  }\n\n  function register_renderer(events, OutputArea) {\n\n    function append_mime(data, metadata, element) {\n      // create a DOM node to render to\n      const toinsert = this.create_output_subarea(\n        metadata,\n        CLASS_NAME,\n        EXEC_MIME_TYPE\n      );\n      this.keyboard_manager.register_events(toinsert);\n      // Render to node\n      const props = {data: data, metadata: metadata[EXEC_MIME_TYPE]};\n      render(props, toinsert[toinsert.length - 1]);\n      element.append(toinsert);\n      return toinsert\n    }\n\n    /* Handle when an output is cleared or removed */\n    events.on('clear_output.CodeCell', handleClearOutput);\n    events.on('delete.Cell', handleClearOutput);\n\n    /* Handle when a new output is added */\n    events.on('output_added.OutputArea', handleAddOutput);\n\n    /**\n     * Register the mime type and append_mime function with output_area\n     */\n    OutputArea.prototype.register_mime_type(EXEC_MIME_TYPE, append_mime, {\n      /* Is output safe? */\n      safe: true,\n      /* Index of renderer in `output_area.display_order` */\n      index: 0\n    });\n  }\n\n  // register the mime type if in Jupyter Notebook environment and previously unregistered\n  if (root.Jupyter !== undefined) {\n    const events = require('base/js/events');\n    const OutputArea = require('notebook/js/outputarea').OutputArea;\n\n    if (OutputArea.prototype.mime_types().indexOf(EXEC_MIME_TYPE) == -1) {\n      register_renderer(events, OutputArea);\n    }\n  }\n  if (typeof (root._bokeh_timeout) === \"undefined\" || force === true) {\n    root._bokeh_timeout = Date.now() + 5000;\n    root._bokeh_failed_load = false;\n  }\n\n  const NB_LOAD_WARNING = {'data': {'text/html':\n     \"<div style='background-color: #fdd'>\\n\"+\n     \"<p>\\n\"+\n     \"BokehJS does not appear to have successfully loaded. If loading BokehJS from CDN, this \\n\"+\n     \"may be due to a slow or bad network connection. Possible fixes:\\n\"+\n     \"</p>\\n\"+\n     \"<ul>\\n\"+\n     \"<li>re-rerun `output_notebook()` to attempt to load from CDN again, or</li>\\n\"+\n     \"<li>use INLINE resources instead, as so:</li>\\n\"+\n     \"</ul>\\n\"+\n     \"<code>\\n\"+\n     \"from bokeh.resources import INLINE\\n\"+\n     \"output_notebook(resources=INLINE)\\n\"+\n     \"</code>\\n\"+\n     \"</div>\"}};\n\n  function display_loaded() {\n    const el = document.getElementById(\"p1003\");\n    if (el != null) {\n      el.textContent = \"BokehJS is loading...\";\n    }\n    if (root.Bokeh !== undefined) {\n      if (el != null) {\n        el.textContent = \"BokehJS \" + root.Bokeh.version + \" successfully loaded.\";\n      }\n    } else if (Date.now() < root._bokeh_timeout) {\n      setTimeout(display_loaded, 100)\n    }\n  }\n\n  function run_callbacks() {\n    try {\n      root._bokeh_onload_callbacks.forEach(function(callback) {\n        if (callback != null)\n          callback();\n      });\n    } finally {\n      delete root._bokeh_onload_callbacks\n    }\n    console.debug(\"Bokeh: all callbacks have finished\");\n  }\n\n  function load_libs(css_urls, js_urls, callback) {\n    if (css_urls == null) css_urls = [];\n    if (js_urls == null) js_urls = [];\n\n    root._bokeh_onload_callbacks.push(callback);\n    if (root._bokeh_is_loading > 0) {\n      console.debug(\"Bokeh: BokehJS is being loaded, scheduling callback at\", now());\n      return null;\n    }\n    if (js_urls == null || js_urls.length === 0) {\n      run_callbacks();\n      return null;\n    }\n    console.debug(\"Bokeh: BokehJS not loaded, scheduling load and callback at\", now());\n    root._bokeh_is_loading = css_urls.length + js_urls.length;\n\n    function on_load() {\n      root._bokeh_is_loading--;\n      if (root._bokeh_is_loading === 0) {\n        console.debug(\"Bokeh: all BokehJS libraries/stylesheets loaded\");\n        run_callbacks()\n      }\n    }\n\n    function on_error(url) {\n      console.error(\"failed to load \" + url);\n    }\n\n    for (let i = 0; i < css_urls.length; i++) {\n      const url = css_urls[i];\n      const element = document.createElement(\"link\");\n      element.onload = on_load;\n      element.onerror = on_error.bind(null, url);\n      element.rel = \"stylesheet\";\n      element.type = \"text/css\";\n      element.href = url;\n      console.debug(\"Bokeh: injecting link tag for BokehJS stylesheet: \", url);\n      document.body.appendChild(element);\n    }\n\n    for (let i = 0; i < js_urls.length; i++) {\n      const url = js_urls[i];\n      const element = document.createElement('script');\n      element.onload = on_load;\n      element.onerror = on_error.bind(null, url);\n      element.async = false;\n      element.src = url;\n      console.debug(\"Bokeh: injecting script tag for BokehJS library: \", url);\n      document.head.appendChild(element);\n    }\n  };\n\n  function inject_raw_css(css) {\n    const element = document.createElement(\"style\");\n    element.appendChild(document.createTextNode(css));\n    document.body.appendChild(element);\n  }\n\n  const js_urls = [\"https://cdn.bokeh.org/bokeh/release/bokeh-3.0.3.min.js\", \"https://cdn.bokeh.org/bokeh/release/bokeh-gl-3.0.3.min.js\", \"https://cdn.bokeh.org/bokeh/release/bokeh-widgets-3.0.3.min.js\", \"https://cdn.bokeh.org/bokeh/release/bokeh-tables-3.0.3.min.js\", \"https://cdn.bokeh.org/bokeh/release/bokeh-mathjax-3.0.3.min.js\"];\n  const css_urls = [];\n\n  const inline_js = [    function(Bokeh) {\n      Bokeh.set_log_level(\"info\");\n    },\nfunction(Bokeh) {\n    }\n  ];\n\n  function run_inline_js() {\n    if (root.Bokeh !== undefined || force === true) {\n          for (let i = 0; i < inline_js.length; i++) {\n      inline_js[i].call(root, root.Bokeh);\n    }\nif (force === true) {\n        display_loaded();\n      }} else if (Date.now() < root._bokeh_timeout) {\n      setTimeout(run_inline_js, 100);\n    } else if (!root._bokeh_failed_load) {\n      console.log(\"Bokeh: BokehJS failed to load within specified timeout.\");\n      root._bokeh_failed_load = true;\n    } else if (force !== true) {\n      const cell = $(document.getElementById(\"p1003\")).parents('.cell').data().cell;\n      cell.output_area.append_execute_result(NB_LOAD_WARNING)\n    }\n  }\n\n  if (root._bokeh_is_loading === 0) {\n    console.debug(\"Bokeh: BokehJS loaded, going straight to plotting\");\n    run_inline_js();\n  } else {\n    load_libs(css_urls, js_urls, function() {\n      console.debug(\"Bokeh: BokehJS plotting callback run at\", now());\n      run_inline_js();\n    });\n  }\n}(window));",
      "application/vnd.bokehjs_load.v0+json": ""
     },
     "metadata": {},
     "output_type": "display_data"
    }
   ],
   "source": [
    "from typing import Optional, Union\n",
    "\n",
    "from bokeh.io.export import export_svg\n",
    "from bokeh.models import Range1d, PrintfTickFormatter, Legend, Plot, HoverTool, ColumnDataSource, LabelSet\n",
    "from bokeh.palettes import all_palettes\n",
    "from bokeh.plotting import figure, show, output_notebook\n",
    "\n",
    "output_notebook()"
   ]
  },
  {
   "cell_type": "code",
   "execution_count": 44,
   "id": "d6251204",
   "metadata": {},
   "outputs": [],
   "source": [
    "def plot_categorical(\n",
    "    hist_values: Union[dict[str, int], dict[str, float]],\n",
    "    x_name: str,\n",
    "    y_name: str,\n",
    "    title: Optional[str],\n",
    "    width: int = 400,\n",
    "    height: int = 400,\n",
    "    txt_size: int = 10,\n",
    "    add_labels: bool = False,\n",
    "    use_colors: bool = True,\n",
    ") -> Plot:\n",
    "    hist_values = {str(k): v for k, v in hist_values.items()}\n",
    "    data = {\n",
    "        x_name: list(hist_values.keys()),\n",
    "        y_name: list(hist_values.values()),\n",
    "    }\n",
    "\n",
    "    palette = \"Category10\"\n",
    "    n_bars = len(hist_values)\n",
    "    if (\n",
    "        use_colors\n",
    "        and palette in all_palettes.keys()\n",
    "        and n_bars in all_palettes[palette].keys()\n",
    "    ):\n",
    "        data[\"color\"] = all_palettes[palette][len(hist_values)]\n",
    "        color_name = \"color\"  # reference to color column\n",
    "    else:\n",
    "        color_name = \"#2b83ba\"  # 'lightsteelblue'\n",
    "\n",
    "    source = ColumnDataSource(data=data)\n",
    "    hover = HoverTool(tooltips=[(x_name, f\"@{x_name}\"), (y_name, f\"@{y_name}\")])\n",
    "\n",
    "    p = figure(\n",
    "        x_range=data[x_name],\n",
    "        y_range=(0, max(data[y_name]) * 1.1),\n",
    "        frame_width=width,\n",
    "        frame_height=height,\n",
    "        title=title,\n",
    "        toolbar_location=\"right\",\n",
    "    )\n",
    "    p.add_tools(hover)\n",
    "    p.xaxis.major_label_text_font_size = f\"{txt_size}px\"\n",
    "    p.xaxis.major_label_text_font_style = 'bold'\n",
    "\n",
    "    if add_labels:\n",
    "        labels = LabelSet(\n",
    "            x=x_name,\n",
    "            y=y_name,\n",
    "            text=y_name,\n",
    "            source=source,\n",
    "            text_font_size=f\"{txt_size}px\",\n",
    "            text_font_style=\"bold\",\n",
    "            text_color=color_name,\n",
    "            text_align=\"center\",\n",
    "            y_offset=10,\n",
    "        )\n",
    "        p.add_layout(labels)\n",
    "\n",
    "    p.vbar(x=x_name, top=y_name, width=0.9, color=color_name, source=source)\n",
    "    show(p)\n",
    "\n",
    "    return p"
   ]
  },
  {
   "cell_type": "code",
   "execution_count": 47,
   "id": "665f5390",
   "metadata": {},
   "outputs": [
    {
     "data": {
      "text/html": [
       "\n",
       "  <div id=\"7121df1b-8ea4-48a4-b45b-411a77f37d25\" data-root-id=\"p6873\" style=\"display: contents;\"></div>\n"
      ]
     },
     "metadata": {},
     "output_type": "display_data"
    },
    {
     "data": {
      "application/javascript": "(function(root) {\n  function embed_document(root) {\n  const docs_json = {\"1f24d20e-5d92-4339-9770-51869c97ca3f\":{\"version\":\"3.0.3\",\"title\":\"Bokeh Application\",\"defs\":[],\"roots\":[{\"type\":\"object\",\"name\":\"Figure\",\"id\":\"p6873\",\"attributes\":{\"x_range\":{\"type\":\"object\",\"name\":\"FactorRange\",\"id\":\"p6882\",\"attributes\":{\"factors\":[\"SUP10\",\"SUP100\",\"PL\",\"MT\",\"MM\",\"RMM\",\"FM\",\"UDA\"]}},\"y_range\":{\"type\":\"object\",\"name\":\"Range1d\",\"id\":\"p6884\",\"attributes\":{\"end\":12.727000000000002}},\"x_scale\":{\"type\":\"object\",\"name\":\"CategoricalScale\",\"id\":\"p6886\"},\"y_scale\":{\"type\":\"object\",\"name\":\"LinearScale\",\"id\":\"p6888\"},\"title\":null,\"renderers\":[{\"type\":\"object\",\"name\":\"GlyphRenderer\",\"id\":\"p6929\",\"attributes\":{\"data_source\":{\"type\":\"object\",\"name\":\"ColumnDataSource\",\"id\":\"p6869\",\"attributes\":{\"selected\":{\"type\":\"object\",\"name\":\"Selection\",\"id\":\"p6871\",\"attributes\":{\"indices\":[],\"line_indices\":[]}},\"selection_policy\":{\"type\":\"object\",\"name\":\"UnionRenderers\",\"id\":\"p6870\"},\"data\":{\"type\":\"map\",\"entries\":[[\"x\",[\"SUP10\",\"SUP100\",\"PL\",\"MT\",\"MM\",\"RMM\",\"FM\",\"UDA\"]],[\"y\",[0.4,1.0,0.0,4.54,5.99,11.57,6.08,0.0]]]}}},\"view\":{\"type\":\"object\",\"name\":\"CDSView\",\"id\":\"p6930\",\"attributes\":{\"filter\":{\"type\":\"object\",\"name\":\"AllIndices\",\"id\":\"p6931\"}}},\"glyph\":{\"type\":\"object\",\"name\":\"VBar\",\"id\":\"p6926\",\"attributes\":{\"x\":{\"type\":\"field\",\"field\":\"x\"},\"width\":{\"type\":\"value\",\"value\":0.9},\"top\":{\"type\":\"field\",\"field\":\"y\"},\"line_color\":{\"type\":\"value\",\"value\":\"#2b83ba\"},\"fill_color\":{\"type\":\"value\",\"value\":\"#2b83ba\"},\"hatch_color\":{\"type\":\"value\",\"value\":\"#2b83ba\"}}},\"nonselection_glyph\":{\"type\":\"object\",\"name\":\"VBar\",\"id\":\"p6927\",\"attributes\":{\"x\":{\"type\":\"field\",\"field\":\"x\"},\"width\":{\"type\":\"value\",\"value\":0.9},\"top\":{\"type\":\"field\",\"field\":\"y\"},\"line_color\":{\"type\":\"value\",\"value\":\"#2b83ba\"},\"line_alpha\":{\"type\":\"value\",\"value\":0.1},\"fill_color\":{\"type\":\"value\",\"value\":\"#2b83ba\"},\"fill_alpha\":{\"type\":\"value\",\"value\":0.1},\"hatch_color\":{\"type\":\"value\",\"value\":\"#2b83ba\"},\"hatch_alpha\":{\"type\":\"value\",\"value\":0.1}}},\"muted_glyph\":{\"type\":\"object\",\"name\":\"VBar\",\"id\":\"p6928\",\"attributes\":{\"x\":{\"type\":\"field\",\"field\":\"x\"},\"width\":{\"type\":\"value\",\"value\":0.9},\"top\":{\"type\":\"field\",\"field\":\"y\"},\"line_color\":{\"type\":\"value\",\"value\":\"#2b83ba\"},\"line_alpha\":{\"type\":\"value\",\"value\":0.2},\"fill_color\":{\"type\":\"value\",\"value\":\"#2b83ba\"},\"fill_alpha\":{\"type\":\"value\",\"value\":0.2},\"hatch_color\":{\"type\":\"value\",\"value\":\"#2b83ba\"},\"hatch_alpha\":{\"type\":\"value\",\"value\":0.2}}}}}],\"toolbar\":{\"type\":\"object\",\"name\":\"Toolbar\",\"id\":\"p6877\",\"attributes\":{\"tools\":[{\"type\":\"object\",\"name\":\"PanTool\",\"id\":\"p6903\"},{\"type\":\"object\",\"name\":\"WheelZoomTool\",\"id\":\"p6904\"},{\"type\":\"object\",\"name\":\"BoxZoomTool\",\"id\":\"p6905\",\"attributes\":{\"overlay\":{\"type\":\"object\",\"name\":\"BoxAnnotation\",\"id\":\"p6906\",\"attributes\":{\"syncable\":false,\"level\":\"overlay\",\"visible\":false,\"left_units\":\"canvas\",\"right_units\":\"canvas\",\"bottom_units\":\"canvas\",\"top_units\":\"canvas\",\"line_color\":\"black\",\"line_alpha\":1.0,\"line_width\":2,\"line_dash\":[4,4],\"fill_color\":\"lightgrey\",\"fill_alpha\":0.5}}}},{\"type\":\"object\",\"name\":\"SaveTool\",\"id\":\"p6907\"},{\"type\":\"object\",\"name\":\"ResetTool\",\"id\":\"p6908\"},{\"type\":\"object\",\"name\":\"HelpTool\",\"id\":\"p6909\"},{\"type\":\"object\",\"name\":\"HoverTool\",\"id\":\"p6872\",\"attributes\":{\"renderers\":\"auto\",\"tooltips\":[[\"x\",\"@x\"],[\"y\",\"@y\"]]}}]}},\"left\":[{\"type\":\"object\",\"name\":\"LinearAxis\",\"id\":\"p6896\",\"attributes\":{\"ticker\":{\"type\":\"object\",\"name\":\"BasicTicker\",\"id\":\"p6897\",\"attributes\":{\"mantissas\":[1,2,5]}},\"formatter\":{\"type\":\"object\",\"name\":\"BasicTickFormatter\",\"id\":\"p6899\"},\"major_label_policy\":{\"type\":\"object\",\"name\":\"AllLabels\",\"id\":\"p6898\"}}}],\"below\":[{\"type\":\"object\",\"name\":\"CategoricalAxis\",\"id\":\"p6890\",\"attributes\":{\"ticker\":{\"type\":\"object\",\"name\":\"CategoricalTicker\",\"id\":\"p6891\"},\"formatter\":{\"type\":\"object\",\"name\":\"CategoricalTickFormatter\",\"id\":\"p6893\"},\"major_label_policy\":{\"type\":\"object\",\"name\":\"AllLabels\",\"id\":\"p6892\"},\"major_label_text_font_size\":\"15px\",\"major_label_text_font_style\":\"bold\"}}],\"center\":[{\"type\":\"object\",\"name\":\"Grid\",\"id\":\"p6895\",\"attributes\":{\"axis\":{\"id\":\"p6890\"}}},{\"type\":\"object\",\"name\":\"Grid\",\"id\":\"p6902\",\"attributes\":{\"dimension\":1,\"axis\":{\"id\":\"p6896\"}}},{\"type\":\"object\",\"name\":\"LabelSet\",\"id\":\"p6919\",\"attributes\":{\"source\":{\"id\":\"p6869\"},\"x\":{\"type\":\"field\",\"field\":\"x\"},\"y\":{\"type\":\"field\",\"field\":\"y\"},\"text\":{\"type\":\"field\",\"field\":\"y\"},\"y_offset\":{\"type\":\"value\",\"value\":10},\"text_color\":{\"type\":\"value\",\"value\":\"#2b83ba\"},\"text_font_size\":{\"type\":\"value\",\"value\":\"15px\"},\"text_font_style\":{\"type\":\"value\",\"value\":\"bold\"},\"text_align\":{\"type\":\"value\",\"value\":\"center\"}}}],\"frame_width\":500,\"frame_height\":500}}]}};\n  const render_items = [{\"docid\":\"1f24d20e-5d92-4339-9770-51869c97ca3f\",\"roots\":{\"p6873\":\"7121df1b-8ea4-48a4-b45b-411a77f37d25\"},\"root_ids\":[\"p6873\"]}];\n  root.Bokeh.embed.embed_items_notebook(docs_json, render_items);\n  }\n  if (root.Bokeh !== undefined) {\n    embed_document(root);\n  } else {\n    let attempts = 0;\n    const timer = setInterval(function(root) {\n      if (root.Bokeh !== undefined) {\n        clearInterval(timer);\n        embed_document(root);\n      } else {\n        attempts++;\n        if (attempts > 100) {\n          clearInterval(timer);\n          console.log(\"Bokeh: ERROR: Unable to run BokehJS code because BokehJS library is missing\");\n        }\n      }\n    }, 10, root)\n  }\n})(window);",
      "application/vnd.bokehjs_exec.v0+json": ""
     },
     "metadata": {
      "application/vnd.bokehjs_exec.v0+json": {
       "id": "p6873"
      }
     },
     "output_type": "display_data"
    }
   ],
   "source": [
    "data = {\n",
    "    \"SUP10\": 0.40,\n",
    "    \"SUP100\": 1.00,\n",
    "    \"PL\": 0.0,\n",
    "    \"MT\": 4.54,\n",
    "    # \"DCT\": 7.56,\n",
    "    \"MM\": 5.99,\n",
    "    \"RMM\": 11.57,\n",
    "    \"FM\": 6.08,\n",
    "    \"UDA\": 0.0,\n",
    "}\n",
    "p = plot_categorical(data, \"x\", \"y\", None, 500, 500, 15, True, False)"
   ]
  },
  {
   "cell_type": "code",
   "execution_count": 48,
   "id": "f8c1c93e",
   "metadata": {},
   "outputs": [],
   "source": [
    "import os.path as osp\n",
    "import subprocess as sp\n",
    "from typing import Optional\n",
    "from bokeh.models import Plot\n",
    "from selenium.webdriver import Firefox\n",
    "\n",
    "def full_export_to_pdf(\n",
    "    p: Plot,\n",
    "    name: str,\n",
    "    dir: str = \"nb_data\",\n",
    "    width: Optional[int] = None,\n",
    "    height: Optional[int] = None,\n",
    ") -> None:\n",
    "    p.output_backend = \"svg\"  # type: ignore\n",
    "\n",
    "    svg_fpath = osp.join(dir, name) + \".svg\"\n",
    "    pdf_fpath = osp.join(dir, name) + \".pdf\"\n",
    "\n",
    "    driver = Firefox()\n",
    "    export_svg(p, filename=svg_fpath, webdriver=driver, width=width, height=height)\n",
    "    driver.close()\n",
    "\n",
    "    fname_noext = \"nb_data/beta_distributions\"\n",
    "    _ = sp.check_call(f\"inkscape {svg_fpath} --export-pdf={pdf_fpath}\".split())"
   ]
  },
  {
   "cell_type": "code",
   "execution_count": 49,
   "id": "c35910e4",
   "metadata": {},
   "outputs": [],
   "source": [
    "full_export_to_pdf(p, \"ssl_durations\")"
   ]
  }
 ],
 "metadata": {
  "kernelspec": {
   "display_name": "env_sslh",
   "language": "python",
   "name": "python3"
  },
  "language_info": {
   "codemirror_mode": {
    "name": "ipython",
    "version": 3
   },
   "file_extension": ".py",
   "mimetype": "text/x-python",
   "name": "python",
   "nbconvert_exporter": "python",
   "pygments_lexer": "ipython3",
   "version": "3.9.12"
  },
  "vscode": {
   "interpreter": {
    "hash": "be248bc6367c75a6390db6284a951edef2e2fc4b96de412cb2b3f2fca69349aa"
   }
  }
 },
 "nbformat": 4,
 "nbformat_minor": 5
}
