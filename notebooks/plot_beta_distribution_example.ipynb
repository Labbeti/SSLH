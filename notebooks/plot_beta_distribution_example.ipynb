{
 "cells": [
  {
   "cell_type": "code",
   "execution_count": 1,
   "metadata": {
    "collapsed": true
   },
   "outputs": [],
   "source": [
    "from matplotlib import pyplot as plt\n",
    "from typing import List"
   ]
  },
  {
   "cell_type": "code",
   "execution_count": null,
   "outputs": [],
   "source": [
    "def beta_pdf(x: List[float], alpha: float, beta: float) -> (List[float], List[float]):\n",
    "\tnew_x = [u for u in x if 0.0 < u < 1.0]\n",
    "\tnew_y = [u ** (alpha - 1.0) * (1 - u) ** (beta - 1.0) for u in new_x]\n",
    "\tsum_ = sum(new_y)\n",
    "\tnew_y = [v / sum_ for v in new_y]\n",
    "\treturn new_x, new_y"
   ],
   "metadata": {
    "collapsed": false,
    "pycharm": {
     "name": "#%%\n"
    }
   }
  },
  {
   "cell_type": "code",
   "execution_count": null,
   "outputs": [],
   "source": [
    "nb_points = 10000\n",
    "hparams = [\n",
    "    (0.4, 0.4),\n",
    "    (0.75, .75),\n",
    "    (1.0, 1.0),\n",
    "    (2.0, 2.0),\n",
    "    (1.5, 1.5),\n",
    "]\n",
    "min_, max_ = 0, 0.0003"
   ],
   "metadata": {
    "collapsed": false,
    "pycharm": {
     "name": "#%%\n"
    }
   }
  },
  {
   "cell_type": "code",
   "execution_count": null,
   "outputs": [],
   "source": [
    "x = list(range(1, nb_points+1))\n",
    "x = [v / nb_points for v in x]\n",
    "\n",
    "for alpha, beta in hparams:\n",
    "    x, y = beta_pdf(x, alpha, beta)\n",
    "    # Filter values\n",
    "    x_new, y_new = [], []\n",
    "    for v1, v2 in zip(x, y):\n",
    "        if min_ <= v2 <= max_:\n",
    "            x_new.append(v1)\n",
    "            y_new.append(v2)\n",
    "    # Plot\n",
    "    plt.plot(x_new, y_new, label=\"beta_{:.2f}_{:.2f}\".format(alpha, beta))\n",
    "\n",
    "# plt.yscale(\"log\")\n",
    "plt.legend()\n",
    "plt.show()\n"
   ],
   "metadata": {
    "collapsed": false,
    "pycharm": {
     "name": "#%%\n"
    }
   }
  }
 ],
 "metadata": {
  "kernelspec": {
   "display_name": "Python 3",
   "language": "python",
   "name": "python3"
  },
  "language_info": {
   "codemirror_mode": {
    "name": "ipython",
    "version": 2
   },
   "file_extension": ".py",
   "mimetype": "text/x-python",
   "name": "python",
   "nbconvert_exporter": "python",
   "pygments_lexer": "ipython2",
   "version": "2.7.6"
  }
 },
 "nbformat": 4,
 "nbformat_minor": 0
}