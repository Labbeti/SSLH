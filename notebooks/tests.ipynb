{
 "cells": [
  {
   "cell_type": "markdown",
   "metadata": {
    "collapsed": true,
    "pycharm": {
     "name": "#%% md\n"
    }
   },
   "source": []
  },
  {
   "cell_type": "code",
   "execution_count": 1,
   "outputs": [
    {
     "name": "stderr",
     "output_type": "stream",
     "text": [
      "/home/labbeti/anaconda3/envs/env_sslh/lib/python3.8/site-packages/torchaudio/backend/utils.py:53: UserWarning: \"sox\" backend is being deprecated. The default backend will be changed to \"sox_io\" backend in 0.8.0 and \"sox\" backend will be removed in 0.9.0. Please migrate to \"sox_io\" backend. Please refer to https://github.com/pytorch/audio/issues/903 for the detail.\n",
      "  warnings.warn(\n"
     ]
    }
   ],
   "source": [
    "import os.path as osp\n",
    "import torch\n",
    "\n",
    "from augmentation_utils.spec_augmentations import Noise\n",
    "from datasets.get_builder import get_dataset_builder\n",
    "from matplotlib import pyplot as plt\n",
    "from sslh.augments.get_augm import add_builder_process_transform"
   ],
   "metadata": {
    "collapsed": false,
    "pycharm": {
     "name": "#%%\n"
    }
   }
  },
  {
   "cell_type": "code",
   "execution_count": 2,
   "outputs": [
    {
     "name": "stdout",
     "output_type": "stream",
     "text": [
      "Dataset already download and verified\n",
      "Dataset already download and verified\n"
     ]
    }
   ],
   "source": [
    "augm = Noise(snr=20, ratio=1.0)\n",
    "builder = get_dataset_builder(\"GSC\")\n",
    "\n",
    "base = add_builder_process_transform(None, builder)\n",
    "transform = add_builder_process_transform(augm, builder)\n",
    "\n",
    "root = osp.join(\"..\", \"datasets\")\n",
    "dataset_raw = builder.get_dataset_val(root, base)\n",
    "dataset = builder.get_dataset_val(root, transform)"
   ],
   "metadata": {
    "collapsed": false,
    "pycharm": {
     "name": "#%%\n"
    }
   }
  },
  {
   "cell_type": "code",
   "execution_count": 3,
   "outputs": [
    {
     "name": "stdout",
     "output_type": "stream",
     "text": [
      "Index =  2379\n",
      "Shape x =  torch.Size([1, 64, 32])\n",
      "y =  10\n",
      "Shape x_augm =  torch.Size([1, 64, 32])\n",
      "y_augm =  10\n"
     ]
    },
    {
     "name": "stderr",
     "output_type": "stream",
     "text": [
      "/home/labbeti/anaconda3/envs/env_sslh/lib/python3.8/site-packages/torch/functional.py:515: UserWarning: stft will require the return_complex parameter be explicitly  specified in a future PyTorch release. Use return_complex=False  to preserve the current behavior or return_complex=True to return  a complex output. (Triggered internally at  /opt/conda/conda-bld/pytorch_1603729062494/work/aten/src/ATen/native/SpectralOps.cpp:653.)\n",
      "  return _VF.stft(input, n_fft, hop_length, win_length, window,  # type: ignore\n",
      "/home/labbeti/anaconda3/envs/env_sslh/lib/python3.8/site-packages/torch/functional.py:515: UserWarning: The function torch.rfft is deprecated and will be removed in a future PyTorch release. Use the new torch.fft module functions, instead, by importing torch.fft and calling torch.fft.fft or torch.fft.rfft. (Triggered internally at  /opt/conda/conda-bld/pytorch_1603729062494/work/aten/src/ATen/native/SpectralOps.cpp:590.)\n",
      "  return _VF.stft(input, n_fft, hop_length, win_length, window,  # type: ignore\n"
     ]
    },
    {
     "data": {
      "text/plain": "<Figure size 432x288 with 1 Axes>",
      "image/png": "[encoded data removed]"
     },
     "metadata": {
      "needs_background": "light"
     },
     "output_type": "display_data"
    },
    {
     "data": {
      "text/plain": "<Figure size 432x288 with 1 Axes>",
      "image/png": "[encoded data removed]"
     },
     "metadata": {
      "needs_background": "light"
     },
     "output_type": "display_data"
    }
   ],
   "source": [
    "index = torch.randint(low=0, high=len(dataset), size=()).item()\n",
    "x, y = dataset_raw[index]\n",
    "x_augm, y_augm = dataset[index]\n",
    "\n",
    "print(\"Index = \", index)\n",
    "print(\"Shape x = \", x.shape)\n",
    "print(\"y = \", y)\n",
    "print(\"Shape x_augm = \", x_augm.shape)\n",
    "print(\"y_augm = \", y_augm)\n",
    "\n",
    "x = x.squeeze().numpy()\n",
    "x_augm = x_augm.squeeze().numpy()\n",
    "\n",
    "plt.figure()\n",
    "plt.imshow(x)\n",
    "plt.savefig(osp.join(\"..\", \"results\", \"img\", \"x.png\"))\n",
    "\n",
    "plt.figure()\n",
    "plt.imshow(x_augm)\n",
    "plt.savefig(osp.join(\"..\", \"results\", \"img\", \"x_augm.png\"))\n",
    "\n",
    "plt.show()\n"
   ],
   "metadata": {
    "collapsed": false,
    "pycharm": {
     "name": "#%%\n"
    }
   }
  },
  {
   "cell_type": "markdown",
   "source": [
    "# RandAugment"
   ],
   "metadata": {
    "collapsed": false,
    "pycharm": {
     "name": "#%% md\n"
    }
   }
  },
  {
   "cell_type": "code",
   "execution_count": 4,
   "outputs": [],
   "source": [
    "import os.path as osp\n",
    "import torch\n",
    "\n",
    "from matplotlib import pyplot as plt\n",
    "from torchvision.datasets import CIFAR10\n",
    "from torchvision.transforms import Compose, ToTensor, Normalize, RandomHorizontalFlip, RandomChoice, RandomCrop, RandomAffine\n",
    "\n",
    "from mlu.transforms.image import RandAugment\n",
    "from mlu.transforms.image.ra_pools import RAND_AUGMENT_POOL_1, RAND_AUGMENT_POOL_2\n",
    "from mlu.transforms import ToTensor as ToTensorMLU\n",
    "from mlu.nn import Permute"
   ],
   "metadata": {
    "collapsed": false,
    "pycharm": {
     "name": "#%%\n"
    }
   }
  },
  {
   "cell_type": "code",
   "execution_count": 5,
   "outputs": [],
   "source": [
    "dataset_root = osp.join(\"..\", \"datasets\")\n",
    "dataset = CIFAR10(dataset_root, train=True, transform=None, target_transform=None)"
   ],
   "metadata": {
    "collapsed": false,
    "pycharm": {
     "name": "#%%\n"
    }
   }
  },
  {
   "cell_type": "code",
   "execution_count": 6,
   "outputs": [],
   "source": [
    "# augm = RandAugment(nb_augm_apply=1, augm_pool=RAND_AUGMENT_POOL_2)\n",
    "augm = Compose([\n",
    "    # RandomAffine(0, translate=(1/16, 1/16)),\n",
    "    # RandomHorizontalFlip(0.5),\n",
    "    RandomCrop((32, 32), padding=8),\n",
    "])\n",
    "\n",
    "post_process = Compose([\n",
    "\tToTensor(),\n",
    "    # Normalize(mean=(0.4914009, 0.48215896, 0.4465308), std=(0.24703279, 0.24348423, 0.26158753)),\n",
    "    Permute(1, 2, 0),\n",
    "])\n",
    "\n",
    "transform = Compose([\n",
    "    augm,\n",
    "    post_process,\n",
    "])"
   ],
   "metadata": {
    "collapsed": false,
    "pycharm": {
     "name": "#%%\n"
    }
   }
  },
  {
   "cell_type": "code",
   "execution_count": 7,
   "outputs": [
    {
     "name": "stdout",
     "output_type": "stream",
     "text": [
      "tensor(0.)\n",
      "tensor(0.8941)\n",
      "tensor(0.5779)\n",
      "torch.Size([32, 32, 3])\n"
     ]
    }
   ],
   "source": [
    "index = 20\n",
    "image, label = dataset[index]\n",
    "image_conv = post_process(image)\n",
    "image_augm = transform(image)\n",
    "\n",
    "# print(image_conv.min())\n",
    "# print(image_conv.max())\n",
    "# print(image_conv.mean())\n",
    "# print(image_conv.shape)\n",
    "\n",
    "print(image_augm.min())\n",
    "print(image_augm.max())\n",
    "print(image_augm.mean())\n",
    "print(image_augm.shape)"
   ],
   "metadata": {
    "collapsed": false,
    "pycharm": {
     "name": "#%%\n"
    }
   }
  },
  {
   "cell_type": "code",
   "execution_count": 8,
   "outputs": [],
   "source": [
    "# print(image_conv)\n",
    "# print(image_augm)"
   ],
   "metadata": {
    "collapsed": false,
    "pycharm": {
     "name": "#%%\n"
    }
   }
  },
  {
   "cell_type": "code",
   "execution_count": 9,
   "outputs": [
    {
     "data": {
      "text/plain": "<Figure size 432x288 with 1 Axes>",
      "image/png": "[encoded data removed]"
     },
     "metadata": {
      "needs_background": "light"
     },
     "output_type": "display_data"
    },
    {
     "data": {
      "text/plain": "<Figure size 432x288 with 1 Axes>",
      "image/png": "[encoded data removed]"
     },
     "metadata": {
      "needs_background": "light"
     },
     "output_type": "display_data"
    }
   ],
   "source": [
    "plt.figure()\n",
    "plt.imshow(image)\n",
    "# plt.figure()\n",
    "# plt.imshow(image_conv)\n",
    "plt.figure()\n",
    "plt.imshow(image_augm)\n",
    "\n",
    "plt.show()"
   ],
   "metadata": {
    "collapsed": false,
    "pycharm": {
     "name": "#%%\n"
    }
   }
  },
  {
   "cell_type": "code",
   "execution_count": 10,
   "outputs": [],
   "source": [
    "import math\n",
    "\n",
    "nb_steps = 100\n",
    "frac = 7.8 / 16\n",
    "lr_lambda = lambda step: math.cos(math.pi * frac * step / nb_steps)\n",
    "lr = 0.03"
   ],
   "metadata": {
    "collapsed": false,
    "pycharm": {
     "name": "#%%\n"
    }
   }
  },
  {
   "cell_type": "code",
   "execution_count": 11,
   "outputs": [
    {
     "data": {
      "text/plain": "0.039259815759068666"
     },
     "execution_count": 11,
     "metadata": {},
     "output_type": "execute_result"
    }
   ],
   "source": [
    "step = 100\n",
    "lr_lambda(step)"
   ],
   "metadata": {
    "collapsed": false,
    "pycharm": {
     "name": "#%%\n"
    }
   }
  },
  {
   "cell_type": "code",
   "execution_count": 12,
   "outputs": [],
   "source": [
    "import torch\n",
    "from argparse import Namespace\n",
    "from matplotlib import pyplot as plt\n",
    "from sslh.datasets_builders.detail.esc_ds import ESC10_NoSR_Cached\n",
    "from sslh.datasets_builders.get_builder import get_dataset_builder"
   ],
   "metadata": {
    "collapsed": false,
    "pycharm": {
     "name": "#%%\n"
    }
   }
  },
  {
   "cell_type": "code",
   "execution_count": 13,
   "outputs": [],
   "source": [
    "itf = get_dataset_builder(\"ESC10\")\n",
    "args = Namespace()\n",
    "args.dataset_path = \"../datasets\"\n",
    "transform = None\n",
    "dataset = ESC10_NoSR_Cached(root=args.dataset_path, download=False, transform=transform)"
   ],
   "metadata": {
    "collapsed": false,
    "pycharm": {
     "name": "#%%\n"
    }
   }
  },
  {
   "cell_type": "code",
   "execution_count": 14,
   "outputs": [
    {
     "name": "stdout",
     "output_type": "stream",
     "text": [
      "Idx:  374\n"
     ]
    },
    {
     "ename": "AttributeError",
     "evalue": "'ESC10Builder' object has no attribute 'get_base_transform'",
     "output_type": "error",
     "traceback": [
      "\u001B[0;31m---------------------------------------------------------------------------\u001B[0m",
      "\u001B[0;31mAttributeError\u001B[0m                            Traceback (most recent call last)",
      "\u001B[0;32m<ipython-input-14-465950116f26>\u001B[0m in \u001B[0;36m<module>\u001B[0;34m\u001B[0m\n\u001B[1;32m      2\u001B[0m \u001B[0mprint\u001B[0m\u001B[0;34m(\u001B[0m\u001B[0;34m\"Idx: \"\u001B[0m\u001B[0;34m,\u001B[0m \u001B[0midx\u001B[0m\u001B[0;34m)\u001B[0m\u001B[0;34m\u001B[0m\u001B[0;34m\u001B[0m\u001B[0m\n\u001B[1;32m      3\u001B[0m \u001B[0mdata\u001B[0m\u001B[0;34m,\u001B[0m \u001B[0m_\u001B[0m \u001B[0;34m=\u001B[0m \u001B[0mdataset\u001B[0m\u001B[0;34m[\u001B[0m\u001B[0midx\u001B[0m\u001B[0;34m]\u001B[0m\u001B[0;34m\u001B[0m\u001B[0;34m\u001B[0m\u001B[0m\n\u001B[0;32m----> 4\u001B[0;31m \u001B[0mspec\u001B[0m \u001B[0;34m=\u001B[0m \u001B[0mitf\u001B[0m\u001B[0;34m.\u001B[0m\u001B[0mget_base_transform\u001B[0m\u001B[0;34m(\u001B[0m\u001B[0;34m)\u001B[0m\u001B[0;34m(\u001B[0m\u001B[0mdata\u001B[0m\u001B[0;34m)\u001B[0m\u001B[0;34m\u001B[0m\u001B[0;34m\u001B[0m\u001B[0m\n\u001B[0m\u001B[1;32m      5\u001B[0m \u001B[0mprint\u001B[0m\u001B[0;34m(\u001B[0m\u001B[0mdata\u001B[0m\u001B[0;34m.\u001B[0m\u001B[0mshape\u001B[0m\u001B[0;34m)\u001B[0m\u001B[0;34m\u001B[0m\u001B[0;34m\u001B[0m\u001B[0m\n\u001B[1;32m      6\u001B[0m \u001B[0mprint\u001B[0m\u001B[0;34m(\u001B[0m\u001B[0mspec\u001B[0m\u001B[0;34m.\u001B[0m\u001B[0mshape\u001B[0m\u001B[0;34m)\u001B[0m\u001B[0;34m\u001B[0m\u001B[0;34m\u001B[0m\u001B[0m\n",
      "\u001B[0;31mAttributeError\u001B[0m: 'ESC10Builder' object has no attribute 'get_base_transform'"
     ]
    }
   ],
   "source": [
    "idx = torch.randint(low=0, high=len(dataset), size=()).item()\n",
    "print(\"Idx: \", idx)\n",
    "data, _ = dataset[idx]\n",
    "spec = itf.get_base_transform()(data)\n",
    "print(data.shape)\n",
    "print(spec.shape)\n",
    "\n",
    "plt.figure()\n",
    "plt.plot(data.squeeze())\n",
    "plt.show()\n",
    "\n",
    "spec = spec.squeeze()\n",
    "spec = 80.0 - spec\n",
    "\n",
    "plt.figure()\n",
    "plt.imshow(spec.numpy(), origin=\"upper\")\n",
    "\n",
    "plt.figure()\n",
    "plt.imshow(spec.roll(100, -1).numpy(), origin=\"upper\")"
   ],
   "metadata": {
    "collapsed": false,
    "pycharm": {
     "name": "#%%\n"
    }
   }
  },
  {
   "cell_type": "code",
   "execution_count": null,
   "outputs": [],
   "source": [
    "import torch\n",
    "from torch.nn import Module, Linear\n",
    "\n",
    "class M(Module):\n",
    "    def __init__(self):\n",
    "        super().__init__()\n",
    "        self.l1 = Linear(1000, 1000)\n",
    "        self.l2 = Linear(1000, 1000)\n",
    "\n",
    "m = M()\n",
    "def count_parameters(model):\n",
    "    return sum(p.numel() for p in model.parameters() if p.requires_grad)"
   ],
   "metadata": {
    "collapsed": false,
    "pycharm": {
     "name": "#%%\n"
    }
   }
  },
  {
   "cell_type": "code",
   "execution_count": null,
   "outputs": [],
   "source": [
    "print(count_parameters(m))"
   ],
   "metadata": {
    "collapsed": false,
    "pycharm": {
     "name": "#%%\n"
    }
   }
  },
  {
   "cell_type": "code",
   "execution_count": null,
   "outputs": [],
   "source": [
    "loader_train_s, loader_train_u = interface.get_split_loaders_train(\n",
    "    labeled_dataset=dataset_train_raw,\n",
    "    ratios=[args.supervised_ratio, 1.0 - args.supervised_ratio],\n",
    "    datasets=[dataset_train_augm_weak, dataset_train_augm_weaks_no_label],\n",
    "    batch_sizes=[args.batch_size_s, args.batch_size_u],\n",
    "    drop_last_list=[True, True],\n",
    "    num_workers_list=[2, 6],\n",
    ")\n",
    "\n",
    "loader_train_s, loader_train_u = get_split_loaders_train(\n",
    "    labeled_dataset=dataset_train_raw,\n",
    "    ratios=[args.supervised_ratio, 1.0 - args.supervised_ratio],\n",
    "    args=[dict(\n",
    "        dataset=dataset_train_augm_weak,\n",
    "        batch_size=args.batch_size_s,\n",
    "        drop_last=True,\n",
    "        num_workers=2,\n",
    "    ), dict(\n",
    "        dataset=dataset_train_augm_weaks_no_label,\n",
    "        batch_size=args.batch_size_s,\n",
    "        drop_last=True,\n",
    "        num_workers=2,\n",
    "    )]\n",
    ")"
   ],
   "metadata": {
    "collapsed": false,
    "pycharm": {
     "name": "#%%\n"
    }
   }
  }
 ],
 "metadata": {
  "kernelspec": {
   "display_name": "Python 3",
   "language": "python",
   "name": "python3"
  },
  "language_info": {
   "codemirror_mode": {
    "name": "ipython",
    "version": 2
   },
   "file_extension": ".py",
   "mimetype": "text/x-python",
   "name": "python",
   "nbconvert_exporter": "python",
   "pygments_lexer": "ipython2",
   "version": "2.7.6"
  }
 },
 "nbformat": 4,
 "nbformat_minor": 0
}