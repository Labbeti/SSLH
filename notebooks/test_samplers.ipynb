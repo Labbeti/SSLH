{
 "cells": [
  {
   "cell_type": "code",
   "execution_count": 1,
   "metadata": {
    "collapsed": true
   },
   "outputs": [],
   "source": [
    "from torch.utils.data import SubsetRandomSampler\n",
    "from torch.utils.data.dataset import Dataset, Subset\n",
    "from torch.utils.data.dataloader import DataLoader"
   ]
  },
  {
   "cell_type": "code",
   "execution_count": 2,
   "outputs": [],
   "source": [
    "class DummyDataset(Dataset):\n",
    "\tdef __init__(self, size: int):\n",
    "\t\tsuper().__init__()\n",
    "\t\tself.size = size\n",
    "\n",
    "\tdef __getitem__(self, index: int) -> int:\n",
    "\t\treturn index\n",
    "\n",
    "\tdef __len__(self) -> int:\n",
    "\t\treturn self.size"
   ],
   "metadata": {
    "collapsed": false,
    "pycharm": {
     "name": "#%%\n"
    }
   }
  },
  {
   "cell_type": "code",
   "execution_count": 3,
   "outputs": [],
   "source": [
    "ds = DummyDataset(100)\n",
    "indices = list(range(30))"
   ],
   "metadata": {
    "collapsed": false,
    "pycharm": {
     "name": "#%%\n"
    }
   }
  },
  {
   "cell_type": "code",
   "execution_count": 4,
   "outputs": [],
   "source": [
    "sampler = SubsetRandomSampler(indices)\n",
    "loader = DataLoader(ds, batch_size=10, sampler=sampler)"
   ],
   "metadata": {
    "collapsed": false,
    "pycharm": {
     "name": "#%%\n"
    }
   }
  },
  {
   "cell_type": "code",
   "execution_count": 5,
   "outputs": [
    {
     "name": "stdout",
     "output_type": "stream",
     "text": [
      "tensor([10,  9, 25,  2,  4, 13, 22, 14, 19,  8])\n",
      "tensor([ 0, 27, 21,  7, 11,  3, 20, 29, 12,  5])\n",
      "tensor([23,  6,  1, 28, 24, 18, 16, 15, 26, 17])\n"
     ]
    }
   ],
   "source": [
    "for item in loader:\n",
    "\tprint(item)"
   ],
   "metadata": {
    "collapsed": false,
    "pycharm": {
     "name": "#%%\n"
    }
   }
  },
  {
   "cell_type": "code",
   "execution_count": 6,
   "outputs": [],
   "source": [
    "sub_ds = Subset(ds, indices)\n",
    "loader_2 = DataLoader(sub_ds, batch_size=10, shuffle=True)"
   ],
   "metadata": {
    "collapsed": false,
    "pycharm": {
     "name": "#%%\n"
    }
   }
  },
  {
   "cell_type": "code",
   "execution_count": 7,
   "outputs": [
    {
     "name": "stdout",
     "output_type": "stream",
     "text": [
      "tensor([18, 28, 25,  4,  0,  8,  9, 16, 13, 29])\n",
      "tensor([ 5,  6, 23, 20, 27,  2,  1, 19, 10, 22])\n",
      "tensor([17,  7, 21, 11, 15, 24, 12,  3, 26, 14])\n"
     ]
    }
   ],
   "source": [
    "for item in loader:\n",
    "\tprint(item)"
   ],
   "metadata": {
    "collapsed": false,
    "pycharm": {
     "name": "#%%\n"
    }
   }
  },
  {
   "cell_type": "code",
   "execution_count": 8,
   "outputs": [
    {
     "name": "stdout",
     "output_type": "stream",
     "text": [
      "Done\n"
     ]
    }
   ],
   "source": [
    "print(\"Done\")"
   ],
   "metadata": {
    "collapsed": false,
    "pycharm": {
     "name": "#%%\n"
    }
   }
  }
 ],
 "metadata": {
  "kernelspec": {
   "display_name": "Python 3",
   "language": "python",
   "name": "python3"
  },
  "language_info": {
   "codemirror_mode": {
    "name": "ipython",
    "version": 2
   },
   "file_extension": ".py",
   "mimetype": "text/x-python",
   "name": "python",
   "nbconvert_exporter": "python",
   "pygments_lexer": "ipython2",
   "version": "2.7.6"
  }
 },
 "nbformat": 4,
 "nbformat_minor": 0
}